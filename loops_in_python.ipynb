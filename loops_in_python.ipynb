{
  "nbformat": 4,
  "nbformat_minor": 0,
  "metadata": {
    "colab": {
      "name": "loops in python.ipynb",
      "provenance": [],
      "authorship_tag": "ABX9TyNiCdTImJYPS07ZOi0xFYIy",
      "include_colab_link": true
    },
    "kernelspec": {
      "name": "python3",
      "display_name": "Python 3"
    },
    "language_info": {
      "name": "python"
    }
  },
  "cells": [
    {
      "cell_type": "markdown",
      "metadata": {
        "id": "view-in-github",
        "colab_type": "text"
      },
      "source": [
        "<a href=\"https://colab.research.google.com/github/imutsaw/day1/blob/main/loops_in_python.ipynb\" target=\"_parent\"><img src=\"https://colab.research.google.com/assets/colab-badge.svg\" alt=\"Open In Colab\"/></a>"
      ]
    },
    {
      "cell_type": "code",
      "metadata": {
        "colab": {
          "base_uri": "https://localhost:8080/"
        },
        "id": "LimBl0y0qucN",
        "outputId": "72fb26d8-3bf4-4c23-bd29-001b960a3259"
      },
      "source": [
        "#while loop\n",
        "count=0\n",
        "while(count<4):\n",
        "  count = count+1\n",
        "  print(\"hello world\")\n"
      ],
      "execution_count": 1,
      "outputs": [
        {
          "output_type": "stream",
          "text": [
            "hello world\n",
            "hello world\n",
            "hello world\n",
            "hello world\n"
          ],
          "name": "stdout"
        }
      ]
    },
    {
      "cell_type": "code",
      "metadata": {
        "colab": {
          "base_uri": "https://localhost:8080/"
        },
        "id": "RaYgHlPt1Cfb",
        "outputId": "57d4836f-d854-4850-fa79-e6766ca3e5ec"
      },
      "source": [
        "#using while loops with different statements\n",
        "count=0\n",
        "while (count<4):\n",
        "  count = count + 1\n",
        "  print('hello world')\n",
        "else:\n",
        "  print('using while loop with else statement')  "
      ],
      "execution_count": 8,
      "outputs": [
        {
          "output_type": "stream",
          "text": [
            "hello world\n",
            "hello world\n",
            "hello world\n",
            "hello world\n",
            "using while loop with else statement\n"
          ],
          "name": "stdout"
        }
      ]
    },
    {
      "cell_type": "code",
      "metadata": {
        "colab": {
          "base_uri": "https://localhost:8080/"
        },
        "id": "ejNYJ8SM21PU",
        "outputId": "d3f97bc4-ada2-4571-eabc-c7a65ca2af91"
      },
      "source": [
        "#python program, for in loop \n",
        "n=6\n",
        "for i in range(0,n):\n",
        "  print(i)"
      ],
      "execution_count": 9,
      "outputs": [
        {
          "output_type": "stream",
          "text": [
            "0\n",
            "1\n",
            "2\n",
            "3\n",
            "4\n",
            "5\n"
          ],
          "name": "stdout"
        }
      ]
    },
    {
      "cell_type": "code",
      "metadata": {
        "colab": {
          "base_uri": "https://localhost:8080/"
        },
        "id": "qokkGNRW5k-c",
        "outputId": "ab86d732-e095-4815-da71-5e759678f5f6"
      },
      "source": [
        "#for loop in list\n",
        "print(\"list iteration\")\n",
        "l=[\"hello\", \"world\", \"this\", \"is\", \"Utsaw\"]\n",
        "for i in l:\n",
        "  print(i)\n",
        "\n",
        "#for loop in tuple\n",
        "print(\"\\ntuple iteration\")\n",
        "t=(\"hello\", \"world\", \"this\", \"is\", \"Utsaw\")\n",
        "for i in t:\n",
        "  print(i)\n",
        "\n",
        "#for loop in string\n",
        "print(\"\\nstring iteration\")\n",
        "s= \"hello\"\n",
        "for i in s:\n",
        "  print(i)\n",
        "\n",
        "#for loop in dictionary\n",
        "print(\"\\ndictionary iteration\")\n",
        "d= dict()\n",
        "d['xyz']=123\n",
        "d['abc']=345\n",
        "for i in d:\n",
        "  print(\"%s %d\" %(i, d[i]))"
      ],
      "execution_count": 13,
      "outputs": [
        {
          "output_type": "stream",
          "text": [
            "list iteration\n",
            "hello\n",
            "world\n",
            "this\n",
            "is\n",
            "Utsaw\n",
            "\n",
            "tuple iteration\n",
            "hello\n",
            "world\n",
            "this\n",
            "is\n",
            "Utsaw\n",
            "\n",
            "string iteration\n",
            "h\n",
            "e\n",
            "l\n",
            "l\n",
            "o\n",
            "\n",
            "dictionary iteration\n",
            "xyz 123\n",
            "abc 345\n"
          ],
          "name": "stdout"
        }
      ]
    },
    {
      "cell_type": "code",
      "metadata": {
        "colab": {
          "base_uri": "https://localhost:8080/"
        },
        "id": "nWKN2mUA7Xm9",
        "outputId": "a7c9139a-cdc8-4290-fe77-1edb7fec56f5"
      },
      "source": [
        "#iterating by index using for loop\n",
        "list=[\"hello\", \"world\", \"this\", \"is\", \"Utsaw\"]\n",
        "for index in range(len(list)):\n",
        "  print(list[index])"
      ],
      "execution_count": 16,
      "outputs": [
        {
          "output_type": "stream",
          "text": [
            "hello\n",
            "world\n",
            "this\n",
            "is\n",
            "Utsaw\n"
          ],
          "name": "stdout"
        }
      ]
    },
    {
      "cell_type": "code",
      "metadata": {
        "colab": {
          "base_uri": "https://localhost:8080/"
        },
        "id": "iM7dAm1R-vXe",
        "outputId": "cd7469e7-7ad6-43cd-cff4-cb82d3f5bfd1"
      },
      "source": [
        "#using else with for\n",
        "list = [\"hello\", \"world\", \"this\", \"is\", \"Utsaw\"]\n",
        "for i in range(len(list)):\n",
        "  print(list[i])\n",
        "else:\n",
        "  print(\"inside else block\")"
      ],
      "execution_count": 17,
      "outputs": [
        {
          "output_type": "stream",
          "text": [
            "hello\n",
            "world\n",
            "this\n",
            "is\n",
            "Utsaw\n",
            "inside else block\n"
          ],
          "name": "stdout"
        }
      ]
    },
    {
      "cell_type": "code",
      "metadata": {
        "colab": {
          "base_uri": "https://localhost:8080/"
        },
        "id": "Vdk8LDQOACeK",
        "outputId": "4812f378-8c55-4a19-ecbe-8230cc8419af"
      },
      "source": [
        "#nested loops, one loop inside another\n",
        "for i in range(1,5):\n",
        "  for j in range(i):\n",
        "    print(i, end='')\n",
        "  print()"
      ],
      "execution_count": 20,
      "outputs": [
        {
          "output_type": "stream",
          "text": [
            "1\n",
            "22\n",
            "333\n",
            "4444\n"
          ],
          "name": "stdout"
        }
      ]
    },
    {
      "cell_type": "code",
      "metadata": {
        "colab": {
          "base_uri": "https://localhost:8080/"
        },
        "id": "-sBAPfOJBXUE",
        "outputId": "c3aff682-bb55-4737-d10c-22531c6c3710"
      },
      "source": [
        "#loop control statement\n",
        "#continue statement: it returns the control to the beginning of the loop.\n",
        "for letter in 'Bookkeeper':\n",
        "  if letter == 'o' or letter == 'e':\n",
        "    continue\n",
        "  print('current letter:', letter)  "
      ],
      "execution_count": 21,
      "outputs": [
        {
          "output_type": "stream",
          "text": [
            "current letter: B\n",
            "current letter: k\n",
            "current letter: k\n",
            "current letter: p\n",
            "current letter: r\n"
          ],
          "name": "stdout"
        }
      ]
    },
    {
      "cell_type": "code",
      "metadata": {
        "colab": {
          "base_uri": "https://localhost:8080/"
        },
        "id": "MIF7jsLfDd-9",
        "outputId": "1f991cb0-c5f8-4313-c5f0-c31633ab1f30"
      },
      "source": [
        "#loop control statement\n",
        "#break statement: It brings control out of the loop.\n",
        "for letter in 'Bookkeeper':\n",
        "  if letter == 'o' or letter == 'e':\n",
        "    break\n",
        "  print('current letter:', letter)  "
      ],
      "execution_count": 22,
      "outputs": [
        {
          "output_type": "stream",
          "text": [
            "current letter: B\n"
          ],
          "name": "stdout"
        }
      ]
    },
    {
      "cell_type": "code",
      "metadata": {
        "id": "zi2mqaHvEOWU"
      },
      "source": [
        ""
      ],
      "execution_count": null,
      "outputs": []
    }
  ]
}