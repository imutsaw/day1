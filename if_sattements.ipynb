{
  "nbformat": 4,
  "nbformat_minor": 0,
  "metadata": {
    "colab": {
      "name": "if sattements.ipynb",
      "provenance": [],
      "authorship_tag": "ABX9TyPuxYvog6A7DAunJFtzgZ1G",
      "include_colab_link": true
    },
    "kernelspec": {
      "name": "python3",
      "display_name": "Python 3"
    },
    "language_info": {
      "name": "python"
    }
  },
  "cells": [
    {
      "cell_type": "markdown",
      "metadata": {
        "id": "view-in-github",
        "colab_type": "text"
      },
      "source": [
        "<a href=\"https://colab.research.google.com/github/imutsaw/day1/blob/main/if_sattements.ipynb\" target=\"_parent\"><img src=\"https://colab.research.google.com/assets/colab-badge.svg\" alt=\"Open In Colab\"/></a>"
      ]
    },
    {
      "cell_type": "code",
      "metadata": {
        "colab": {
          "base_uri": "https://localhost:8080/"
        },
        "id": "mrgVgMS3RBP5",
        "outputId": "6e73865c-e388-4d6f-fc32-18a7bc273582"
      },
      "source": [
        "x= int(input(\"Enter the value:\"))\n",
        "if x > 0:\n",
        "  print(\"Value is positive\")\n",
        "\n",
        "elif x < 0:\n",
        "  print(\"Value is negative\")\n",
        "\n",
        "else:\n",
        "  print(\"value is zero\")"
      ],
      "execution_count": 5,
      "outputs": [
        {
          "output_type": "stream",
          "text": [
            "Enter the value:6\n",
            "Value is positive\n"
          ],
          "name": "stdout"
        }
      ]
    },
    {
      "cell_type": "code",
      "metadata": {
        "colab": {
          "base_uri": "https://localhost:8080/"
        },
        "id": "1zfATW91UYxl",
        "outputId": "e3a692a1-b049-4b59-cd3b-8302e5cf66ea"
      },
      "source": [
        "name = input(\"Enter the name:\")\n",
        "mark = int(input(\"Enter the mark:\"))\n",
        "\n",
        "if mark < 45:\n",
        "    print(name, \"has failed in the exam\")\n",
        "        \n",
        "elif mark > 45:\n",
        "    print(name, \"has passed in the exam\")\n",
        "        \n",
        "else:\n",
        "    print(name,\"has just passed\")"
      ],
      "execution_count": 8,
      "outputs": [
        {
          "output_type": "stream",
          "text": [
            "Enter the name:Utsaw\n",
            "Enter the mark:98\n",
            "Utsaw has passed in the exam\n"
          ],
          "name": "stdout"
        }
      ]
    },
    {
      "cell_type": "code",
      "metadata": {
        "colab": {
          "base_uri": "https://localhost:8080/"
        },
        "id": "2EbnjkMcVy7I",
        "outputId": "c11c5cdd-27d9-4e8b-a764-1cd19de6990b"
      },
      "source": [
        "x= 51\n",
        "s =\"yes\" if x < 50 else \"no\"    #short hand if else statement\n",
        "print(s)"
      ],
      "execution_count": 1,
      "outputs": [
        {
          "output_type": "stream",
          "text": [
            "yes\n"
          ],
          "name": "stdout"
        }
      ]
    },
    {
      "cell_type": "code",
      "metadata": {
        "colab": {
          "base_uri": "https://localhost:8080/"
        },
        "id": "Q5_eYsmpx7kj",
        "outputId": "45fdd96f-ab23-4ded-b080-7770211b605a"
      },
      "source": [
        "x = 5\n",
        "if 0 < x < 10:\n",
        "  print(\"In range A\")\n",
        "else:\n",
        "  print(\"Not in range\")"
      ],
      "execution_count": 2,
      "outputs": [
        {
          "output_type": "stream",
          "text": [
            "In range A\n"
          ],
          "name": "stdout"
        }
      ]
    },
    {
      "cell_type": "code",
      "metadata": {
        "colab": {
          "base_uri": "https://localhost:8080/"
        },
        "id": "gD0qhOriy9aJ",
        "outputId": "6de38960-8c6d-46b5-bc18-0a704d235a7b"
      },
      "source": [
        "x = [123, 54, 92, 87, 33]\n",
        "y = x[:] # y is a copy of x\n",
        "z = x\n",
        "print(x)\n",
        "print(\"Are values of y and x the same?\", y == x)\n",
        "print(\"Are objects y and x the same?\", y is x)\n",
        "print(\"Are values of z and x the same?\", z == x)\n",
        "print(\"Are objects z and x the same?\", z is x)\n",
        "# Let's change x\n",
        "x[1] = 23\n",
        "print(x)\n",
        "print(y)\n",
        "print(\"Are values of y and x the same?\", y == x)\n",
        "print(\"Are objects y and x the same?\", y is x)\n",
        "print(\"Are values of z and x the same?\", z == x)\n",
        "print(\"Are objects z and x the same?\", z is x)"
      ],
      "execution_count": 3,
      "outputs": [
        {
          "output_type": "stream",
          "text": [
            "[123, 54, 92, 87, 33]\n",
            "Are values of y and x the same? True\n",
            "Are objects y and x the same? False\n",
            "Are values of z and x the same? True\n",
            "Are objects z and x the same? True\n",
            "[123, 23, 92, 87, 33]\n",
            "[123, 54, 92, 87, 33]\n",
            "Are values of y and x the same? False\n",
            "Are objects y and x the same? False\n",
            "Are values of z and x the same? True\n",
            "Are objects z and x the same? True\n"
          ],
          "name": "stdout"
        }
      ]
    },
    {
      "cell_type": "code",
      "metadata": {
        "id": "fcaDhwsk3BgF"
      },
      "source": [
        "x = ''   #an empty string\n",
        "y = ['a']"
      ],
      "execution_count": null,
      "outputs": []
    }
  ]
}