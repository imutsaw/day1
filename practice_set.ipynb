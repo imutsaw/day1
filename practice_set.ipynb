{
  "nbformat": 4,
  "nbformat_minor": 0,
  "metadata": {
    "colab": {
      "name": "practice set.ipynb",
      "provenance": [],
      "authorship_tag": "ABX9TyNUd68KIMwqjECzwFJY1Zi1",
      "include_colab_link": true
    },
    "kernelspec": {
      "name": "python3",
      "display_name": "Python 3"
    },
    "language_info": {
      "name": "python"
    }
  },
  "cells": [
    {
      "cell_type": "markdown",
      "metadata": {
        "id": "view-in-github",
        "colab_type": "text"
      },
      "source": [
        "<a href=\"https://colab.research.google.com/github/imutsaw/day1/blob/main/practice_set.ipynb\" target=\"_parent\"><img src=\"https://colab.research.google.com/assets/colab-badge.svg\" alt=\"Open In Colab\"/></a>"
      ]
    },
    {
      "cell_type": "code",
      "metadata": {
        "colab": {
          "base_uri": "https://localhost:8080/"
        },
        "id": "YHpL2ER-tDly",
        "outputId": "fe2117fe-1a53-49bb-e598-412be3087608"
      },
      "source": [
        "matrix = [input()]\n",
        "print(matrix)"
      ],
      "execution_count": 6,
      "outputs": [
        {
          "output_type": "stream",
          "text": [
            "1\n",
            "['1']\n"
          ],
          "name": "stdout"
        }
      ]
    },
    {
      "cell_type": "code",
      "metadata": {
        "colab": {
          "base_uri": "https://localhost:8080/"
        },
        "id": "xp4ddPtQysDN",
        "outputId": "4a84898b-7eb4-4e70-f021-fc88412bf007"
      },
      "source": [
        "#in operator\n",
        "x=(1,2,3,4,5)\n",
        "t=[6,7,8,9,10,9,8,9]\n",
        "print('2 in', x, 2 in x)\n",
        "print('11 in', t, 11 in t)\n",
        "print('1000 in', t, 1000 not in t)"
      ],
      "execution_count": 8,
      "outputs": [
        {
          "output_type": "stream",
          "text": [
            "2 in (1, 2, 3, 4, 5) True\n",
            "11 in [6, 7, 8, 9, 10, 9, 8, 9] False\n",
            "1000 in [6, 7, 8, 9, 10, 9, 8, 9] True\n"
          ],
          "name": "stdout"
        }
      ]
    },
    {
      "cell_type": "code",
      "metadata": {
        "colab": {
          "base_uri": "https://localhost:8080/"
        },
        "id": "dWZJlKVH1_ES",
        "outputId": "b35e117e-09ba-494e-c852-8e2b2cac2f54"
      },
      "source": [
        "#length and count function\n",
        "print('length of t is', len(t))\n",
        "print('\\nnumber of 9s in t is',t.count(9))"
      ],
      "execution_count": 9,
      "outputs": [
        {
          "output_type": "stream",
          "text": [
            "length of t is 8\n",
            "\n",
            "number of 9s in t is 3\n"
          ],
          "name": "stdout"
        }
      ]
    },
    {
      "cell_type": "code",
      "metadata": {
        "colab": {
          "base_uri": "https://localhost:8080/",
          "height": 235
        },
        "id": "e-0lJlmB2wlB",
        "outputId": "58e88798-b5f3-4159-d1a6-cf8babe08e63"
      },
      "source": [
        "#we can change the values of a list but not tuples,because tuples are immutable\n",
        "#x is a tuple\n",
        "print(x)\n",
        "x[2]=33\n",
        "print(x)"
      ],
      "execution_count": 11,
      "outputs": [
        {
          "output_type": "stream",
          "text": [
            "(1, 2, 3, 4, 5)\n"
          ],
          "name": "stdout"
        },
        {
          "output_type": "error",
          "ename": "TypeError",
          "evalue": "ignored",
          "traceback": [
            "\u001b[0;31m---------------------------------------------------------------------------\u001b[0m",
            "\u001b[0;31mTypeError\u001b[0m                                 Traceback (most recent call last)",
            "\u001b[0;32m<ipython-input-11-5349029e45e4>\u001b[0m in \u001b[0;36m<module>\u001b[0;34m()\u001b[0m\n\u001b[1;32m      2\u001b[0m \u001b[0;31m#x is a tuple\u001b[0m\u001b[0;34m\u001b[0m\u001b[0;34m\u001b[0m\u001b[0;34m\u001b[0m\u001b[0m\n\u001b[1;32m      3\u001b[0m \u001b[0mprint\u001b[0m\u001b[0;34m(\u001b[0m\u001b[0mx\u001b[0m\u001b[0;34m)\u001b[0m\u001b[0;34m\u001b[0m\u001b[0;34m\u001b[0m\u001b[0m\n\u001b[0;32m----> 4\u001b[0;31m \u001b[0mx\u001b[0m\u001b[0;34m[\u001b[0m\u001b[0;36m2\u001b[0m\u001b[0;34m]\u001b[0m\u001b[0;34m=\u001b[0m\u001b[0;36m33\u001b[0m\u001b[0;34m\u001b[0m\u001b[0;34m\u001b[0m\u001b[0m\n\u001b[0m\u001b[1;32m      5\u001b[0m \u001b[0mprint\u001b[0m\u001b[0;34m(\u001b[0m\u001b[0mx\u001b[0m\u001b[0;34m)\u001b[0m\u001b[0;34m\u001b[0m\u001b[0;34m\u001b[0m\u001b[0m\n",
            "\u001b[0;31mTypeError\u001b[0m: 'tuple' object does not support item assignment"
          ]
        }
      ]
    },
    {
      "cell_type": "code",
      "metadata": {
        "colab": {
          "base_uri": "https://localhost:8080/"
        },
        "id": "_Cw6gDHB3acF",
        "outputId": "75b7946a-cf74-4d21-8f53-e1db2e8f62c2"
      },
      "source": [
        "#t is a list\n",
        "print(t)\n",
        "t[3]=44\n",
        "print(t)"
      ],
      "execution_count": 12,
      "outputs": [
        {
          "output_type": "stream",
          "text": [
            "[6, 7, 8, 9, 10, 9, 8, 9]\n",
            "[6, 7, 8, 44, 10, 9, 8, 9]\n"
          ],
          "name": "stdout"
        }
      ]
    },
    {
      "cell_type": "code",
      "metadata": {
        "colab": {
          "base_uri": "https://localhost:8080/"
        },
        "id": "ipq42xF03uMT",
        "outputId": "6ef9a427-606b-4d8a-9e46-57b756423565"
      },
      "source": [
        "#we can change the order of a element in a list\n",
        "a=[1,3,9,4,0,6]\n",
        "a.reverse()#reverses the list\n",
        "print(a)\n",
        "a.sort()#sorting in ascending order\n",
        "print(a)"
      ],
      "execution_count": 14,
      "outputs": [
        {
          "output_type": "stream",
          "text": [
            "[6, 0, 4, 9, 3, 1]\n",
            "[0, 1, 3, 4, 6, 9]\n"
          ],
          "name": "stdout"
        }
      ]
    },
    {
      "cell_type": "code",
      "metadata": {
        "colab": {
          "base_uri": "https://localhost:8080/"
        },
        "id": "CxeYZv-04uFm",
        "outputId": "cef31ed6-e103-45fe-d0a9-25e9b52af393"
      },
      "source": [
        "a=[2,6,4,7,8]\n",
        "b=sorted(a)\n",
        "print(a)\n",
        "print(b)"
      ],
      "execution_count": 15,
      "outputs": [
        {
          "output_type": "stream",
          "text": [
            "[2, 6, 4, 7, 8]\n",
            "[2, 4, 6, 7, 8]\n"
          ],
          "name": "stdout"
        }
      ]
    },
    {
      "cell_type": "code",
      "metadata": {
        "colab": {
          "base_uri": "https://localhost:8080/"
        },
        "id": "bqYcexrC5Oft",
        "outputId": "26e41df7-b4c7-45c7-ac6d-4559909b1e4f"
      },
      "source": [
        "a=\"hello world!!\"\n",
        "print(a[-10:8])\n",
        "print(a[:])"
      ],
      "execution_count": 2,
      "outputs": [
        {
          "output_type": "stream",
          "text": [
            "lo wo\n"
          ],
          "name": "stdout"
        }
      ]
    }
  ]
}