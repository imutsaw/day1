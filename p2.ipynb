{
  "nbformat": 4,
  "nbformat_minor": 0,
  "metadata": {
    "colab": {
      "name": "p2.ipynb",
      "provenance": [],
      "authorship_tag": "ABX9TyOkuV1vg/XTlrmUuv5+lHt1",
      "include_colab_link": true
    },
    "kernelspec": {
      "name": "python3",
      "display_name": "Python 3"
    },
    "language_info": {
      "name": "python"
    }
  },
  "cells": [
    {
      "cell_type": "markdown",
      "metadata": {
        "id": "view-in-github",
        "colab_type": "text"
      },
      "source": [
        "<a href=\"https://colab.research.google.com/github/imutsaw/python/blob/main/p2.ipynb\" target=\"_parent\"><img src=\"https://colab.research.google.com/assets/colab-badge.svg\" alt=\"Open In Colab\"/></a>"
      ]
    },
    {
      "cell_type": "code",
      "metadata": {
        "id": "XhD5R8NzRu56",
        "colab": {
          "base_uri": "https://localhost:8080/"
        },
        "outputId": "8d5f2c7f-4058-4150-e5be-c1295539f184"
      },
      "source": [
        "#set\n",
        "#accessing items from a set\n",
        "set={\"apple\", \"banana\", \"cherry\"}\n",
        "\n",
        "for x in set:\n",
        "  print(x)\n",
        "\n",
        "#checking items present in a set\n",
        "print(\"\\n\")\n",
        "print(\"banana\" in set)\n"
      ],
      "execution_count": 1,
      "outputs": [
        {
          "output_type": "stream",
          "text": [
            "banana\n",
            "cherry\n",
            "apple\n",
            "\n",
            "\n",
            "True\n"
          ],
          "name": "stdout"
        }
      ]
    },
    {
      "cell_type": "code",
      "metadata": {
        "colab": {
          "base_uri": "https://localhost:8080/"
        },
        "id": "NWmtvdbXOjEK",
        "outputId": "7f00d60a-b02f-4b67-d870-585122bfdcd9"
      },
      "source": [
        "#add items in a set using add() method\n",
        "set.add(\"orange\")\n",
        "print(set)\n",
        "\n",
        "print(\"\\n\")\n",
        "#add items in a set using update() method\n",
        "tropical=(\"pineapple\", \"mango\", \"papaya\")\n",
        "set.update(tropical)\n",
        "print(set)\n",
        "print(\"\\n\")\n",
        "\n",
        "\n",
        "#adding items from list, tuple & dictionary\n",
        "set = {\"apple\", \"banana\", \"cherry\"}\n",
        "mylist=[\"kiwi\", \"orange\"]\n",
        "thistuple=(\"papaya\", \"dragon fruit\")\n",
        "thisdict={\"mango\": 4, \"watermelon\": 5}\n",
        "set.update(mylist, thistuple, thisdict)\n",
        "\n",
        "print(set)"
      ],
      "execution_count": 2,
      "outputs": [
        {
          "output_type": "stream",
          "text": [
            "{'banana', 'cherry', 'orange', 'apple'}\n",
            "\n",
            "\n",
            "{'papaya', 'apple', 'mango', 'banana', 'orange', 'cherry', 'pineapple'}\n",
            "\n",
            "\n",
            "{'papaya', 'apple', 'dragon fruit', 'mango', 'banana', 'orange', 'kiwi', 'cherry', 'watermelon'}\n"
          ],
          "name": "stdout"
        }
      ]
    },
    {
      "cell_type": "code",
      "metadata": {
        "colab": {
          "base_uri": "https://localhost:8080/"
        },
        "id": "bOBWlcYGdsT3",
        "outputId": "48dcbbaa-2481-42d6-be59-b73870369bc2"
      },
      "source": [
        "#remove an item from a set using remove() method\n",
        "set={'papaya', 'apple', 'dragon fruit', 'mango', 'banana', 'orange', 'kiwi', 'cherry', 'watermelon'}\n",
        "set.remove(\"cherry\")\n",
        "print(set)\n",
        "print(\"\\n\")\n",
        "\n",
        "#remove an item from a set using discard() method\n",
        "set.discard(\"banana\")\n",
        "print(set)\n",
        "print(\"\\n\")\n",
        "\n",
        "#remove an item from a set using pop() method\n",
        "set.pop()\n",
        "print(set)"
      ],
      "execution_count": 3,
      "outputs": [
        {
          "output_type": "stream",
          "text": [
            "{'papaya', 'dragon fruit', 'apple', 'mango', 'banana', 'orange', 'kiwi', 'watermelon'}\n",
            "\n",
            "\n",
            "{'papaya', 'dragon fruit', 'apple', 'mango', 'orange', 'kiwi', 'watermelon'}\n",
            "\n",
            "\n",
            "{'dragon fruit', 'apple', 'mango', 'orange', 'kiwi', 'watermelon'}\n"
          ],
          "name": "stdout"
        }
      ]
    },
    {
      "cell_type": "code",
      "metadata": {
        "colab": {
          "base_uri": "https://localhost:8080/"
        },
        "id": "DtjY0Qi1gdSd",
        "outputId": "b31ade55-bce1-4d92-f170-4edc1ae02450"
      },
      "source": [
        "#clearing a set using clear() method\n",
        "set={\"apple\", \"banana\", \"cherry\"}\n",
        "set.clear()\n",
        "print(set)\n",
        "print(\"\\n\")\n",
        "\n",
        "\n",
        "#delete the set  completely\n",
        "del set\n",
        "\n",
        "print(set)\n"
      ],
      "execution_count": 5,
      "outputs": [
        {
          "output_type": "stream",
          "text": [
            "set()\n",
            "\n",
            "\n",
            "<class 'set'>\n"
          ],
          "name": "stdout"
        }
      ]
    },
    {
      "cell_type": "code",
      "metadata": {
        "colab": {
          "base_uri": "https://localhost:8080/"
        },
        "id": "72BxlQ6Zh7I2",
        "outputId": "f11d1460-f3d7-4e2d-84b7-2e097cb7aaa2"
      },
      "source": [
        "#joining of two set union() method\n",
        "set= {\"a\", \"b\", \"c\"}\n",
        "set={1, 2, 3}\n",
        "set3= set1.union(set2)\n",
        "print(set3)\n",
        "print(\"\\n\")\n",
        "\n",
        "\n",
        "#joining of two sets using update() method\n",
        "set= {\"a\", \"b\", \"c\"}\n",
        "set={1, 2, 3}\n",
        "set1.update(set2)\n",
        "print(set1)"
      ],
      "execution_count": 6,
      "outputs": [
        {
          "output_type": "stream",
          "text": [
            "{1, 2, 'b', 'c', 3, 'a'}\n",
            "\n",
            "\n",
            "{1, 2, 'b', 'c', 3, 'a'}\n"
          ],
          "name": "stdout"
        }
      ]
    },
    {
      "cell_type": "code",
      "metadata": {
        "colab": {
          "base_uri": "https://localhost:8080/"
        },
        "id": "35n6zHB9itwe",
        "outputId": "3b9008e5-63f0-4198-fbd8-7eb0955c3175"
      },
      "source": [
        "#Dictionary\n",
        "d={'key1': 'item1', 'key2':'item2', 'key3': 'item3'}\n",
        "print(d)\n",
        "print(d[\"key1\"])\n"
      ],
      "execution_count": 7,
      "outputs": [
        {
          "output_type": "stream",
          "text": [
            "{'key1': 'item1', 'key2': 'item2', 'key3': 'item3'}\n",
            "item1\n"
          ],
          "name": "stdout"
        }
      ]
    },
    {
      "cell_type": "code",
      "metadata": {
        "colab": {
          "base_uri": "https://localhost:8080/"
        },
        "id": "skwVCLJdykEI",
        "outputId": "8cc0adb5-058e-46c3-8cc1-7001dec01a73"
      },
      "source": [
        "#string, int, boolean and lsit data types in dictionary\n",
        "dict = {\"brand\": \"Ford\",\"electric\": False,\"year\": 1964,\"colors\": [\"red\", \"white\", \"blue\"]}\n",
        "print(dict)"
      ],
      "execution_count": 8,
      "outputs": [
        {
          "output_type": "stream",
          "text": [
            "{'brand': 'Ford', 'electric': False, 'year': 1964, 'colors': ['red', 'white', 'blue']}\n"
          ],
          "name": "stdout"
        }
      ]
    },
    {
      "cell_type": "code",
      "metadata": {
        "colab": {
          "base_uri": "https://localhost:8080/"
        },
        "id": "eMeeOPSJ2a7n",
        "outputId": "e2dcb9ca-f6a7-48f2-f349-d3476d6417cf"
      },
      "source": [
        "#Accessing Items:You can access the items of a dictionary by referring to its key name\n",
        "print(dict[\"year\"])\n",
        "#Accessing items using get() method\n",
        "print(dict.get(\"colors\"))"
      ],
      "execution_count": 9,
      "outputs": [
        {
          "output_type": "stream",
          "text": [
            "1964\n",
            "['red', 'white', 'blue']\n"
          ],
          "name": "stdout"
        }
      ]
    },
    {
      "cell_type": "code",
      "metadata": {
        "colab": {
          "base_uri": "https://localhost:8080/"
        },
        "id": "03hlKAG83kWe",
        "outputId": "24cf6ab5-d1e1-4396-a4c5-542fca01ea00"
      },
      "source": [
        "#Get Keys:The keys() method will return a list of all the keys in the dictionary.\n",
        "x = dict.keys()\n",
        "print(x)"
      ],
      "execution_count": 10,
      "outputs": [
        {
          "output_type": "stream",
          "text": [
            "dict_keys(['brand', 'electric', 'year', 'colors'])\n"
          ],
          "name": "stdout"
        }
      ]
    },
    {
      "cell_type": "code",
      "metadata": {
        "colab": {
          "base_uri": "https://localhost:8080/"
        },
        "id": "0BuitE_m5Ity",
        "outputId": "5f7cfff8-9155-4af9-f893-6be45c032d6a"
      },
      "source": [
        "#Get Values:The values() method will return a list of all the values in the dictionary.\n",
        "x = dict.values()\n",
        "print(x)"
      ],
      "execution_count": 11,
      "outputs": [
        {
          "output_type": "stream",
          "text": [
            "dict_values(['Ford', False, 1964, ['red', 'white', 'blue']])\n"
          ],
          "name": "stdout"
        }
      ]
    },
    {
      "cell_type": "code",
      "metadata": {
        "colab": {
          "base_uri": "https://localhost:8080/"
        },
        "id": "Zw0bUgKb5nHw",
        "outputId": "151d891e-d15a-4c2f-bb49-cc13b13f639f"
      },
      "source": [
        "#Get Items:The items() method will return each item in a dictionary, as tuples in a list.Get a list of the key:value pairs\n",
        "x = dict.items()\n",
        "print(x)"
      ],
      "execution_count": 12,
      "outputs": [
        {
          "output_type": "stream",
          "text": [
            "dict_items([('brand', 'Ford'), ('electric', False), ('year', 1964), ('colors', ['red', 'white', 'blue'])])\n"
          ],
          "name": "stdout"
        }
      ]
    },
    {
      "cell_type": "code",
      "metadata": {
        "colab": {
          "base_uri": "https://localhost:8080/"
        },
        "id": "tDFnQgMu7Lbl",
        "outputId": "584e6116-cf2e-4ce6-8fab-d5819672613a"
      },
      "source": [
        "#Make a change in the original dictionary\n",
        "x = dict[\"year\"] = 2020\n",
        "\n",
        "print(x) #after the change\n",
        "print(dict)\n",
        "\n",
        "#Add a new item to the original dictionary\n",
        "y = dict[\"slno\"] = \"4100\"\n",
        "\n",
        "print(y) #after the change\n",
        "print(dict)\n"
      ],
      "execution_count": 13,
      "outputs": [
        {
          "output_type": "stream",
          "text": [
            "2020\n",
            "{'brand': 'Ford', 'electric': False, 'year': 2020, 'colors': ['red', 'white', 'blue']}\n",
            "4100\n",
            "{'brand': 'Ford', 'electric': False, 'year': 2020, 'colors': ['red', 'white', 'blue'], 'slno': '4100'}\n"
          ],
          "name": "stdout"
        }
      ]
    },
    {
      "cell_type": "code",
      "metadata": {
        "colab": {
          "base_uri": "https://localhost:8080/"
        },
        "id": "CpwG1cT_8z9U",
        "outputId": "bdc01dd9-c05e-45df-c74b-b1c99b353336"
      },
      "source": [
        "#Updating or changing in a dictionary\n",
        "dict = {\"brand\": \"Ford\",\"electric\": False,\"year\": 1964,\"color\":\"red\"}\n",
        "dict.update({\"year\": 2020})\n",
        "print(dict)"
      ],
      "execution_count": 14,
      "outputs": [
        {
          "output_type": "stream",
          "text": [
            "{'brand': 'Ford', 'electric': False, 'year': 2020, 'color': 'red'}\n"
          ],
          "name": "stdout"
        }
      ]
    },
    {
      "cell_type": "code",
      "metadata": {
        "colab": {
          "base_uri": "https://localhost:8080/"
        },
        "id": "vcUkzOUH9PXw",
        "outputId": "849415eb-5707-48a5-d081-422021ba566f"
      },
      "source": [
        "#Looping in the dictionary\n",
        "dict = {\"brand\": \"Ford\",\"electric\": False,\"year\": 1964,\"color\":\"red\"}\n",
        "\n",
        "\"\"\"Print all key names in the dictionary, one by one\"\"\"\n",
        "for x in dict:\n",
        "    print(x)\n",
        "\n",
        "print('\\n')\n",
        "\"\"\"Print all values in the dictionary, one by one\"\"\"\n",
        "for x in dict:\n",
        "    print(dict[x])"
      ],
      "execution_count": 15,
      "outputs": [
        {
          "output_type": "stream",
          "text": [
            "brand\n",
            "electric\n",
            "year\n",
            "color\n",
            "\n",
            "\n",
            "Ford\n",
            "False\n",
            "1964\n",
            "red\n"
          ],
          "name": "stdout"
        }
      ]
    },
    {
      "cell_type": "code",
      "metadata": {
        "colab": {
          "base_uri": "https://localhost:8080/"
        },
        "id": "IcpUBO_VITkY",
        "outputId": "5751e854-1bd9-475c-b7ee-6ec6b7a1b13d"
      },
      "source": [
        "#return values in dict\n",
        "for x in dict.values():\n",
        "  print(x)\n",
        "\n",
        "print(\"\\n\")\n",
        "#return values in keys\n",
        "for x in dict.keys():\n",
        "  print(x)\n",
        "\n",
        "print(\"\\n\")\n",
        "#return values and keys pair in dict\n",
        "for x,y in dict.items():\n",
        "  print(x, \"->\", y)"
      ],
      "execution_count": 16,
      "outputs": [
        {
          "output_type": "stream",
          "text": [
            "Ford\n",
            "False\n",
            "1964\n",
            "red\n",
            "\n",
            "\n",
            "brand\n",
            "electric\n",
            "year\n",
            "color\n",
            "\n",
            "\n",
            "brand -> Ford\n",
            "electric -> False\n",
            "year -> 1964\n",
            "color -> red\n"
          ],
          "name": "stdout"
        }
      ]
    },
    {
      "cell_type": "code",
      "metadata": {
        "colab": {
          "base_uri": "https://localhost:8080/"
        },
        "id": "AluivNu-T33-",
        "outputId": "6d44f127-c29a-4d88-d586-444847916388"
      },
      "source": [
        "#Nested dictionary\n",
        "\n",
        "myfamily = {\"child1\" : {\"name\" : \"Emil\",\"year\" : 2004},\"child2\" : {\"name\" : \"Tobias\",\"year\" : 2007},\"child3\" : \n",
        "            {\"name\" : \"Linus\",\"year\" : 2011}}\n",
        "print(myfamily)"
      ],
      "execution_count": 17,
      "outputs": [
        {
          "output_type": "stream",
          "text": [
            "{'child1': {'name': 'Emil', 'year': 2004}, 'child2': {'name': 'Tobias', 'year': 2007}, 'child3': {'name': 'Linus', 'year': 2011}}\n"
          ],
          "name": "stdout"
        }
      ]
    },
    {
      "cell_type": "code",
      "metadata": {
        "colab": {
          "base_uri": "https://localhost:8080/"
        },
        "id": "sNg3Sn7IUHVL",
        "outputId": "88b53006-1b1f-432b-8ed9-60616d85bd83"
      },
      "source": [
        "#Qno- Create three dictionaries separately, then create one dictionary that will contain the other three dictionaries\n",
        "# Python code to merge dict using a single\n",
        "# expression\n",
        "def Merge(dict1, dict2, dict3):\n",
        "\tres = {**dict1, **dict2, **dict3}\n",
        "\treturn res\n",
        "\t\n",
        "# Driver code\n",
        "dict1 = {'a': 10, 'b': 8}\n",
        "dict2 = {'d': 6, 'c': 4}\n",
        "dict3 = {'e':5, 'f':7}\n",
        "dict4 = Merge(dict1, dict2, dict3)\n",
        "print(dict4)\n"
      ],
      "execution_count": 2,
      "outputs": [
        {
          "output_type": "stream",
          "text": [
            "{'a': 10, 'b': 8, 'd': 6, 'c': 4, 'e': 5, 'f': 7}\n"
          ],
          "name": "stdout"
        }
      ]
    },
    {
      "cell_type": "code",
      "metadata": {
        "colab": {
          "base_uri": "https://localhost:8080/"
        },
        "id": "gNxY583c1x5M",
        "outputId": "c348758c-d161-41de-b96c-c63a876c84ef"
      },
      "source": [
        "#Write a program to multiply all elements of dictionary Input:- FruitDict = {'Apple': 10, 'banana': 5,'orange':4,'Guava':6} Output:- 1200\n",
        "FruitDict = {'Apple': 10, 'banana': 5,'orange':4,'Guava':6}\n",
        "result=1\n",
        "for key in FruitDict:    \n",
        "    result=result * FruitDict[key]\n",
        "\n",
        "print(result)"
      ],
      "execution_count": 3,
      "outputs": [
        {
          "output_type": "stream",
          "text": [
            "1200\n"
          ],
          "name": "stdout"
        }
      ]
    },
    {
      "cell_type": "code",
      "metadata": {
        "colab": {
          "base_uri": "https://localhost:8080/"
        },
        "id": "b_o0bfh7_OV2",
        "outputId": "01c7b37f-6097-4b38-b689-deaf237ab2ea"
      },
      "source": [
        "#Create a user input dictionary having two key:value pair and check whether one of the key given by you is pesent in the dictionary Input:- {hari:59,sunny:60} Checking_input:- hari Output:- hari=59\n",
        "# given key already exists in a dictionary.\n",
        "  \n",
        "# Function to print sum\n",
        "def checkKey(dict, key):\n",
        "      \n",
        "    if key in dict.keys():\n",
        "        print(\"Present, \", end =\" \")\n",
        "        print(key, \" = \", dict[key])\n",
        "    else:\n",
        "        print(\"Not present\")\n",
        "  \n",
        "# Driver Code\n",
        "dict = {'hari' : 59,'sunny' : 60}\n",
        "  \n",
        "key = input(\"Enter the key: \")\n",
        "checkKey(dict, key)"
      ],
      "execution_count": 10,
      "outputs": [
        {
          "output_type": "stream",
          "text": [
            "Enter the key: hari\n",
            "Present,  hari  =  59\n"
          ],
          "name": "stdout"
        }
      ]
    },
    {
      "cell_type": "code",
      "metadata": {
        "id": "AOA61b2wEMrb"
      },
      "source": [
        ""
      ],
      "execution_count": null,
      "outputs": []
    }
  ]
}