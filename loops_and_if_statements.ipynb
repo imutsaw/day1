{
  "nbformat": 4,
  "nbformat_minor": 0,
  "metadata": {
    "colab": {
      "name": "loops and if statements.ipynb",
      "provenance": [],
      "collapsed_sections": [],
      "authorship_tag": "ABX9TyNhdoc+gDacFyR3fRWqpf7l",
      "include_colab_link": true
    },
    "kernelspec": {
      "name": "python3",
      "display_name": "Python 3"
    },
    "language_info": {
      "name": "python"
    }
  },
  "cells": [
    {
      "cell_type": "markdown",
      "metadata": {
        "id": "view-in-github",
        "colab_type": "text"
      },
      "source": [
        "<a href=\"https://colab.research.google.com/github/imutsaw/day1/blob/main/loops_and_if_statements.ipynb\" target=\"_parent\"><img src=\"https://colab.research.google.com/assets/colab-badge.svg\" alt=\"Open In Colab\"/></a>"
      ]
    },
    {
      "cell_type": "code",
      "metadata": {
        "colab": {
          "base_uri": "https://localhost:8080/"
        },
        "id": "3Uug7o-Yagdr",
        "outputId": "cc570ada-1b50-4368-d22b-dd676eaef068"
      },
      "source": [
        "a = int(input(\"value of length\"))\n",
        "b= int(input(\"value of breadth\"))\n",
        "if a==b:\n",
        "  print(\"It is a square\")\n",
        "else:\n",
        "  print(\"It is a rectangle\")\n"
      ],
      "execution_count": 6,
      "outputs": [
        {
          "output_type": "stream",
          "text": [
            "value of length5\n",
            "value of breadth5\n",
            "It is a square\n"
          ],
          "name": "stdout"
        }
      ]
    },
    {
      "cell_type": "code",
      "metadata": {
        "colab": {
          "base_uri": "https://localhost:8080/"
        },
        "id": "1txIWwJxbmV3",
        "outputId": "19cc3c30-ff11-4368-eb07-5c6dbc8e6b29"
      },
      "source": [
        "#take 2 variable with integer value and find and print weather variable is greater , smaller or both are equal by using short hand if..else method\n",
        "a=int(input(\"value of a\"))\n",
        "b=int(input(\"value of b\"))\n",
        "print(\"equals\") if a==b else print(\"a greater\") if a>b else print(\"a less than b\")"
      ],
      "execution_count": 3,
      "outputs": [
        {
          "output_type": "stream",
          "text": [
            "value of a2\n",
            "value of b4\n",
            "a less than b\n"
          ],
          "name": "stdout"
        }
      ]
    },
    {
      "cell_type": "code",
      "metadata": {
        "colab": {
          "base_uri": "https://localhost:8080/"
        },
        "id": "OFXHaJEzgEhQ",
        "outputId": "b947ddf9-050b-4ec0-db7e-4dd4b9b3276a"
      },
      "source": [
        "for i in range(4,20,2):\n",
        "  print(i)"
      ],
      "execution_count": 9,
      "outputs": [
        {
          "output_type": "stream",
          "text": [
            "4\n",
            "6\n",
            "8\n",
            "10\n",
            "12\n",
            "14\n",
            "16\n",
            "18\n"
          ],
          "name": "stdout"
        }
      ]
    },
    {
      "cell_type": "code",
      "metadata": {
        "colab": {
          "base_uri": "https://localhost:8080/"
        },
        "id": "i-9RwcVSkcGm",
        "outputId": "a4694042-109c-48b5-d44a-8f010d05318e"
      },
      "source": [
        "for i in range(4,20,2):\n",
        "  print(i)"
      ],
      "execution_count": 10,
      "outputs": [
        {
          "output_type": "stream",
          "text": [
            "4\n",
            "6\n",
            "8\n",
            "10\n",
            "12\n",
            "14\n",
            "16\n",
            "18\n"
          ],
          "name": "stdout"
        }
      ]
    },
    {
      "cell_type": "code",
      "metadata": {
        "colab": {
          "base_uri": "https://localhost:8080/"
        },
        "id": "yttrTyKGlUEl",
        "outputId": "177fa06f-337c-4657-8270-c9b6b33ee392"
      },
      "source": [
        "x=int(input(\"enter the no.\"))\n",
        "a=0\n",
        "for i in range(x+1):\n",
        "    a=a+i\n",
        "print(a)"
      ],
      "execution_count": 13,
      "outputs": [
        {
          "output_type": "stream",
          "text": [
            "enter the natural no.20\n",
            "210\n"
          ],
          "name": "stdout"
        }
      ]
    },
    {
      "cell_type": "code",
      "metadata": {
        "colab": {
          "base_uri": "https://localhost:8080/"
        },
        "id": "G-B6-1talVKl",
        "outputId": "9f36c269-97e1-4e58-9cf9-f6e063d44145"
      },
      "source": [
        "new_list = []\n",
        "n = int(input(\"Enter number of elements : \"))\n",
        "  \n",
        "for i in range(0, n):\n",
        "    ele = input()\n",
        "  \n",
        "    new_list.append(ele)\n",
        "      \n",
        "print(new_list)\n",
        "new_list.sort()\n",
        "print(\"After sorting: \", new_list)\n",
        "new_list.sort(reverse = True)\n",
        "print(\"After reverse sorting: \", new_list)"
      ],
      "execution_count": 14,
      "outputs": [
        {
          "output_type": "stream",
          "text": [
            "Enter number of elements : 1\n",
            "apple\n",
            "['apple']\n",
            "After sorting:  ['apple']\n",
            "After reverse sorting:  ['apple']\n"
          ],
          "name": "stdout"
        }
      ]
    },
    {
      "cell_type": "code",
      "metadata": {
        "colab": {
          "base_uri": "https://localhost:8080/"
        },
        "id": "Cie5e7zvs0vs",
        "outputId": "6b93b518-d8dd-4c6e-8c90-b3ae7064d416"
      },
      "source": [
        "l1=[1,2,3,4,5]\n",
        "l2=[4,5,6,7,8]\n",
        "l3=[5,4,3,2,1]\n",
        "l4=[1,2,3,4,5]\n",
        "print(l1 == l2)\n",
        "print(l1 == l3)\n",
        "print(l1==l4)"
      ],
      "execution_count": 4,
      "outputs": [
        {
          "output_type": "stream",
          "text": [
            "False\n",
            "False\n",
            "True\n"
          ],
          "name": "stdout"
        }
      ]
    },
    {
      "cell_type": "code",
      "metadata": {
        "colab": {
          "base_uri": "https://localhost:8080/"
        },
        "id": "U5sIG98eeRpR",
        "outputId": "b34ba215-a5ca-4837-83f7-2aaf13b48fd4"
      },
      "source": [
        "d1={1:1,2:2,3:3,4:4}\n",
        "d2={4:4,3:3,2:2,1:1}\n",
        "print(d1==d2)"
      ],
      "execution_count": 5,
      "outputs": [
        {
          "output_type": "stream",
          "text": [
            "True\n"
          ],
          "name": "stdout"
        }
      ]
    },
    {
      "cell_type": "code",
      "metadata": {
        "colab": {
          "base_uri": "https://localhost:8080/"
        },
        "id": "sLKUf2Pne87F",
        "outputId": "c4dc3043-2aca-4375-c67e-78c08ac591a2"
      },
      "source": [
        "for num in [1,2,3,4,5]:\n",
        "    print(num**3)"
      ],
      "execution_count": 8,
      "outputs": [
        {
          "output_type": "stream",
          "text": [
            "1\n",
            "8\n",
            "27\n",
            "64\n",
            "125\n"
          ],
          "name": "stdout"
        }
      ]
    },
    {
      "cell_type": "code",
      "metadata": {
        "colab": {
          "base_uri": "https://localhost:8080/"
        },
        "id": "3DeCMdzTfGb_",
        "outputId": "a61b6eff-b376-4bdb-97e6-347e9a8077bc"
      },
      "source": [
        "for i in 'HelloWorld':\n",
        "  print(i)"
      ],
      "execution_count": 3,
      "outputs": [
        {
          "output_type": "stream",
          "text": [
            "H\n",
            "e\n",
            "l\n",
            "l\n",
            "o\n",
            "W\n",
            "o\n",
            "r\n",
            "l\n",
            "d\n"
          ],
          "name": "stdout"
        }
      ]
    },
    {
      "cell_type": "code",
      "metadata": {
        "colab": {
          "base_uri": "https://localhost:8080/"
        },
        "id": "vNljvtr8fZfj",
        "outputId": "fa1ef700-b2e6-4eb0-f61e-0ecd889ab227"
      },
      "source": [
        "import random\n",
        "r1= random.random() #gives random number from 0-1\n",
        "print(r1)\n",
        "\n",
        "#random number from the given list\n",
        "r2=random.choice([1,2,3,4,5])\n",
        "print(r2)\n",
        "\n",
        "#gives a random in the given range\n",
        "r3= random.randint(1,100)\n",
        "print(r3)"
      ],
      "execution_count": 16,
      "outputs": [
        {
          "output_type": "stream",
          "text": [
            "0.10584235768356565\n",
            "2\n",
            "90\n"
          ],
          "name": "stdout"
        }
      ]
    },
    {
      "cell_type": "code",
      "metadata": {
        "colab": {
          "base_uri": "https://localhost:8080/"
        },
        "id": "4zwAZV90f_El",
        "outputId": "740511f7-64d0-469f-a831-ebbc3acc1ad2"
      },
      "source": [
        "for i in range(2000,2100,25):  #(start: stop: step)\n",
        "  print(i)"
      ],
      "execution_count": 17,
      "outputs": [
        {
          "output_type": "stream",
          "text": [
            "2000\n",
            "2025\n",
            "2050\n",
            "2075\n"
          ],
          "name": "stdout"
        }
      ]
    },
    {
      "cell_type": "code",
      "metadata": {
        "colab": {
          "base_uri": "https://localhost:8080/"
        },
        "id": "nTI30PvVhIqZ",
        "outputId": "dd0ac17a-fd73-4547-b895-39dc39683227"
      },
      "source": [
        "menu={'rajma':50,'chawal':25,'chicken':100,'curry':75}\n",
        "for name, price in menu.items():\n",
        "  print(name,':Rs', price)"
      ],
      "execution_count": 18,
      "outputs": [
        {
          "output_type": "stream",
          "text": [
            "rajma :Rs 50\n",
            "chawal :Rs 25\n",
            "chicken :Rs 100\n",
            "curry :Rs 75\n"
          ],
          "name": "stdout"
        }
      ]
    },
    {
      "cell_type": "code",
      "metadata": {
        "colab": {
          "base_uri": "https://localhost:8080/"
        },
        "id": "YJGCyKECiTR1",
        "outputId": "a755e80e-4c53-4aa3-b658-6e9bc85c0e9c"
      },
      "source": [
        "n=int(input(\"Enter the number\"))\n",
        "for num in range(0,n+1,2):   #(start:stop:step), here n is the input and (n+1) is the end digit\n",
        "  print(num)"
      ],
      "execution_count": 21,
      "outputs": [
        {
          "output_type": "stream",
          "text": [
            "Enter the number6\n",
            "0\n",
            "2\n",
            "4\n",
            "6\n"
          ],
          "name": "stdout"
        }
      ]
    },
    {
      "cell_type": "code",
      "metadata": {
        "colab": {
          "base_uri": "https://localhost:8080/"
        },
        "id": "B-RrdVpYisao",
        "outputId": "9afc1906-b753-424a-a21c-25aa31c116c8"
      },
      "source": [
        "n=1\n",
        "num= int(input(\"Enter the number\"))\n",
        "while n<num:\n",
        "  n+=1\n",
        "  print(n)\n",
        "  n+=1\n",
        "  \n",
        "\n",
        "  "
      ],
      "execution_count": 30,
      "outputs": [
        {
          "output_type": "stream",
          "text": [
            "Enter the number10\n",
            "2\n",
            "4\n",
            "6\n",
            "8\n",
            "10\n"
          ],
          "name": "stdout"
        }
      ]
    },
    {
      "cell_type": "code",
      "metadata": {
        "colab": {
          "base_uri": "https://localhost:8080/"
        },
        "id": "9DRBXRSHjc9v",
        "outputId": "c24d76cb-d2b0-4aef-a0a4-78c174d31334"
      },
      "source": [
        "x=int(input(\"Enter the number X:\"))\n",
        "y=int(input(\"Enter the number Y:\"))\n",
        "if x<y:\n",
        "  print('x is less than y')\n",
        "elif x>y:\n",
        "  print('x is greater than y')\n",
        "else:\n",
        "  print('x and y are equal')"
      ],
      "execution_count": 2,
      "outputs": [
        {
          "output_type": "stream",
          "text": [
            "Enter the number X:9\n",
            "Enter the number Y:9\n",
            "x and y are equal\n"
          ],
          "name": "stdout"
        }
      ]
    },
    {
      "cell_type": "code",
      "metadata": {
        "colab": {
          "base_uri": "https://localhost:8080/"
        },
        "id": "08prwWsaLfCX",
        "outputId": "0f44095e-ed9d-4450-897d-d08354a3de44"
      },
      "source": [
        "crypto={\"btc\":\"bitcoin\",\"mat\":\"matic\", \"wrx\":\"wazir\",\"doge\":\"dogecoin\"}\n",
        "\n",
        "for x in crypto:\n",
        "  print(x, crypto[x])"
      ],
      "execution_count": 5,
      "outputs": [
        {
          "output_type": "stream",
          "text": [
            "btc: bitcoin\n",
            "mat: matic\n",
            "wrx: wazir\n",
            "doge: dogecoin\n"
          ],
          "name": "stdout"
        }
      ]
    },
    {
      "cell_type": "code",
      "metadata": {
        "colab": {
          "base_uri": "https://localhost:8080/"
        },
        "id": "E-n32iWSPmss",
        "outputId": "bcf8a4ab-528c-4ae0-9e0b-c642994ad420"
      },
      "source": [
        "total=5\n",
        "values=[1,2,3,4,5]\n",
        "\n",
        "for v in values:\n",
        "  total += v     #it means  total= total + v\n",
        "  print(total)"
      ],
      "execution_count": 6,
      "outputs": [
        {
          "output_type": "stream",
          "text": [
            "6\n",
            "8\n",
            "11\n",
            "15\n",
            "20\n"
          ],
          "name": "stdout"
        }
      ]
    },
    {
      "cell_type": "code",
      "metadata": {
        "colab": {
          "base_uri": "https://localhost:8080/"
        },
        "id": "AGGLMCpcShnd",
        "outputId": "1c5f180f-97c3-4f48-95ef-b53e505d20ac"
      },
      "source": [
        "#shivam's marksheet\n",
        "marksheet={\n",
        "    'maths':98,\n",
        "    'english':41,\n",
        "    'sst': 30,\n",
        "    'science':99,\n",
        "    'moral science': 45\n",
        "}    \n",
        "\n",
        "\n",
        "for subject in marksheet:\n",
        "  if marksheet.get(subject) < 41:\n",
        "    print(subject,\":failed\")\n",
        "\n",
        "  elif marksheet.get(subject) > 41:\n",
        "    print(subject,\":passed\")\n",
        "\n",
        "  else:\n",
        "    print(subject,':just passed')\n",
        "\n"
      ],
      "execution_count": 9,
      "outputs": [
        {
          "output_type": "stream",
          "text": [
            "maths :passed\n",
            "english :just passed\n",
            "sst :failed\n",
            "science :passed\n",
            "moral science :passed\n"
          ],
          "name": "stdout"
        }
      ]
    },
    {
      "cell_type": "code",
      "metadata": {
        "colab": {
          "base_uri": "https://localhost:8080/"
        },
        "id": "u0zLHiRzbIAk",
        "outputId": "fea486c1-28a3-4a73-cdce-65f5b3edb32d"
      },
      "source": [
        "value = int(input(\"Enter the value:\"))\n",
        "while value < 8:\n",
        "  value = value*2\n",
        "  print(value)\n",
        "  break\n",
        "print('final value:', value)"
      ],
      "execution_count": 12,
      "outputs": [
        {
          "output_type": "stream",
          "text": [
            "Enter the value:3\n",
            "6\n",
            "final value: 6\n"
          ],
          "name": "stdout"
        }
      ]
    },
    {
      "cell_type": "code",
      "metadata": {
        "colab": {
          "base_uri": "https://localhost:8080/"
        },
        "id": "IOoC4rxzcmJS",
        "outputId": "ec681cdd-32b0-4314-9437-ae53ebf5237d"
      },
      "source": [
        "#sum of positive integer in a list\n",
        "list=[1,2,4,-6,-9,-10,20]\n",
        "total=0\n",
        "for l in list:\n",
        "  if l>0:\n",
        "    total += l\n",
        "  continue\n",
        "print(total)  \n",
        "  "
      ],
      "execution_count": 16,
      "outputs": [
        {
          "output_type": "stream",
          "text": [
            "27\n"
          ],
          "name": "stdout"
        }
      ]
    },
    {
      "cell_type": "code",
      "metadata": {
        "colab": {
          "base_uri": "https://localhost:8080/"
        },
        "id": "kB8V93_2eRAa",
        "outputId": "c25785ab-0899-4df3-d407-61d107dd4929"
      },
      "source": [
        "#print from 1-12\n",
        "for n in range(1,20):\n",
        "  if n % 13 == 0:\n",
        "    break\n",
        "  else:\n",
        "    print(n)  "
      ],
      "execution_count": 18,
      "outputs": [
        {
          "output_type": "stream",
          "text": [
            "1\n",
            "2\n",
            "3\n",
            "4\n",
            "5\n",
            "6\n",
            "7\n",
            "8\n",
            "9\n",
            "10\n",
            "11\n",
            "12\n"
          ],
          "name": "stdout"
        }
      ]
    },
    {
      "cell_type": "code",
      "metadata": {
        "colab": {
          "base_uri": "https://localhost:8080/"
        },
        "id": "k22aHZjfitxa",
        "outputId": "b630fb0a-8e64-4f96-aca7-f1564bae1734"
      },
      "source": [
        "#power of its own number till 9\n",
        "for x in range(10):\n",
        "  print(x*x)"
      ],
      "execution_count": 20,
      "outputs": [
        {
          "output_type": "stream",
          "text": [
            "0\n",
            "1\n",
            "4\n",
            "9\n",
            "16\n",
            "25\n",
            "36\n",
            "49\n",
            "64\n",
            "81\n"
          ],
          "name": "stdout"
        }
      ]
    },
    {
      "cell_type": "code",
      "metadata": {
        "colab": {
          "base_uri": "https://localhost:8080/"
        },
        "id": "_Ct7bFTbjgzp",
        "outputId": "a2b86a99-596f-472a-eb9a-cd52aec8d4cc"
      },
      "source": [
        "square=[]\n",
        "for x in range(10):\n",
        "  s=x*x\n",
        "  square.append(s)\n",
        "print(square)"
      ],
      "execution_count": 22,
      "outputs": [
        {
          "output_type": "stream",
          "text": [
            "[0, 1, 4, 9, 16, 25, 36, 49, 64, 81]\n"
          ],
          "name": "stdout"
        }
      ]
    },
    {
      "cell_type": "code",
      "metadata": {
        "colab": {
          "base_uri": "https://localhost:8080/"
        },
        "id": "klAxG9g1lpg4",
        "outputId": "889d397b-284f-4198-ab00-3b4cf99915bd"
      },
      "source": [
        "alpha=['a','b','c','d','e']\n",
        "for index, letter in enumerate(alpha):\n",
        "  print(index,letter)"
      ],
      "execution_count": 1,
      "outputs": [
        {
          "output_type": "stream",
          "text": [
            "0 a\n",
            "1 b\n",
            "2 c\n",
            "3 d\n",
            "4 e\n"
          ],
          "name": "stdout"
        }
      ]
    },
    {
      "cell_type": "code",
      "metadata": {
        "colab": {
          "base_uri": "https://localhost:8080/"
        },
        "id": "wb7HLsPYEjm2",
        "outputId": "b54c4b6a-2cbf-4ba8-d8e4-69d8f5e408d0"
      },
      "source": [
        "numbered_alpha = list(enumerate(alpha))\n",
        "print(numbered_alpha)"
      ],
      "execution_count": 2,
      "outputs": [
        {
          "output_type": "stream",
          "text": [
            "[(0, 'a'), (1, 'b'), (2, 'c'), (3, 'd'), (4, 'e')]\n"
          ],
          "name": "stdout"
        }
      ]
    },
    {
      "cell_type": "code",
      "metadata": {
        "colab": {
          "base_uri": "https://localhost:8080/"
        },
        "id": "mIVal6JcFCGK",
        "outputId": "dbe4f340-f944-41a2-eb3b-1485c3055ee8"
      },
      "source": [
        "city_pops = {\n",
        "    'London': 8200000,\n",
        "    'Cambridge': 130000,\n",
        "    'Edinburgh': 420000,\n",
        "    'Glasgow': 1200000\n",
        "}\n",
        "\n",
        "big_cities = []\n",
        "for city in city_pops:\n",
        "    if city_pops[city] >= 1000000:\n",
        "         big_cities.append(city)\n",
        "\n",
        "print(big_cities)"
      ],
      "execution_count": 5,
      "outputs": [
        {
          "output_type": "stream",
          "text": [
            "['London', 'Glasgow']\n"
          ],
          "name": "stdout"
        }
      ]
    },
    {
      "cell_type": "code",
      "metadata": {
        "colab": {
          "base_uri": "https://localhost:8080/"
        },
        "id": "ezRg22lFIaWC",
        "outputId": "6d31adaa-7068-4425-a8dc-75005f3ad604"
      },
      "source": [
        "total = 0\n",
        "for city in city_pops:\n",
        "    total += city_pops[city]\n",
        "print(\"total population:\", total)"
      ],
      "execution_count": 6,
      "outputs": [
        {
          "output_type": "stream",
          "text": [
            "total population: 9950000\n"
          ],
          "name": "stdout"
        }
      ]
    },
    {
      "cell_type": "code",
      "metadata": {
        "colab": {
          "base_uri": "https://localhost:8080/"
        },
        "id": "VJ8Ou94IJVj0",
        "outputId": "cf805e22-703b-42f0-b251-7a14e821aa74"
      },
      "source": [
        "pops = list(city_pops.values())\n",
        "print(\"total population:\", sum(pops))"
      ],
      "execution_count": 7,
      "outputs": [
        {
          "output_type": "stream",
          "text": [
            "total population: 9950000\n"
          ],
          "name": "stdout"
        }
      ]
    },
    {
      "cell_type": "code",
      "metadata": {
        "id": "5XSkTCn3JYFL"
      },
      "source": [
        ""
      ],
      "execution_count": null,
      "outputs": []
    }
  ]
}