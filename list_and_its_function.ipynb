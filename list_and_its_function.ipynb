{
  "nbformat": 4,
  "nbformat_minor": 0,
  "metadata": {
    "colab": {
      "name": "list and its function.ipynb",
      "provenance": [],
      "authorship_tag": "ABX9TyOU6GYsjlR2iBJQSOC/QgF4",
      "include_colab_link": true
    },
    "kernelspec": {
      "name": "python3",
      "display_name": "Python 3"
    },
    "language_info": {
      "name": "python"
    }
  },
  "cells": [
    {
      "cell_type": "markdown",
      "metadata": {
        "id": "view-in-github",
        "colab_type": "text"
      },
      "source": [
        "<a href=\"https://colab.research.google.com/github/imutsaw/day1/blob/main/list_and_its_function.ipynb\" target=\"_parent\"><img src=\"https://colab.research.google.com/assets/colab-badge.svg\" alt=\"Open In Colab\"/></a>"
      ]
    },
    {
      "cell_type": "code",
      "metadata": {
        "colab": {
          "base_uri": "https://localhost:8080/"
        },
        "id": "-JQ4wfzM5Hz0",
        "outputId": "2e36bf91-ea93-4cb9-a5e4-ed145735981e"
      },
      "source": [
        "list=[]\n",
        "print(list)"
      ],
      "execution_count": 21,
      "outputs": [
        {
          "output_type": "stream",
          "text": [
            "[]\n"
          ],
          "name": "stdout"
        }
      ]
    },
    {
      "cell_type": "code",
      "metadata": {
        "colab": {
          "base_uri": "https://localhost:8080/"
        },
        "id": "5ZqUafaZ5huT",
        "outputId": "348db487-c7b4-4f2d-d086-ed90c1b2e265"
      },
      "source": [
        "#creating a list\n",
        "list=[10,20,14]\n",
        "print(list)"
      ],
      "execution_count": 22,
      "outputs": [
        {
          "output_type": "stream",
          "text": [
            "[10, 20, 14]\n"
          ],
          "name": "stdout"
        }
      ]
    },
    {
      "cell_type": "code",
      "metadata": {
        "colab": {
          "base_uri": "https://localhost:8080/"
        },
        "id": "bHxK8_hf7BZy",
        "outputId": "2e218f92-55fb-4c93-c69a-6ed7584f2f4c"
      },
      "source": [
        "#adding elements in the list using append function, only one item can be added by this method using this\n",
        "list.append(1)\n",
        "list.append(2)\n",
        "list.append(3)\n",
        "print(list)"
      ],
      "execution_count": 23,
      "outputs": [
        {
          "output_type": "stream",
          "text": [
            "[10, 20, 14, 1, 2, 3]\n"
          ],
          "name": "stdout"
        }
      ]
    },
    {
      "cell_type": "code",
      "metadata": {
        "colab": {
          "base_uri": "https://localhost:8080/"
        },
        "id": "FS_LKoEl7Rgh",
        "outputId": "65d9af0b-44d3-4c36-b0e9-5ae55863c7e7"
      },
      "source": [
        "#adding elements in the list using iterators \n",
        "for i in range(1,5):\n",
        "  list.append(i)\n",
        "print(list)"
      ],
      "execution_count": 24,
      "outputs": [
        {
          "output_type": "stream",
          "text": [
            "[10, 20, 14, 1, 2, 3, 1, 2, 3, 4]\n"
          ],
          "name": "stdout"
        }
      ]
    },
    {
      "cell_type": "code",
      "metadata": {
        "colab": {
          "base_uri": "https://localhost:8080/"
        },
        "id": "qDhzZHmN8Gr8",
        "outputId": "02607512-a589-4663-d65c-eaecd762959a"
      },
      "source": [
        "#adding list to list \n",
        "list2=['jodha' , 'akbar', 100]\n",
        "list.append(list2)\n",
        "print(list)"
      ],
      "execution_count": 26,
      "outputs": [
        {
          "output_type": "stream",
          "text": [
            "[10, 20, 14, 1, 2, 3, 1, 2, 3, 4, ['jodha', 'akbar', 100], ['jodha', 'akbar', 100]]\n"
          ],
          "name": "stdout"
        }
      ]
    },
    {
      "cell_type": "code",
      "metadata": {
        "colab": {
          "base_uri": "https://localhost:8080/"
        },
        "id": "zUYKXL25BcMZ",
        "outputId": "3b6c55b1-5a0b-49fd-e807-239a10f57ef5"
      },
      "source": [
        "#adding elements in the list using inset method, items can be added in therir desired location (position, value)\n",
        "list.insert(3,12)\n",
        "list.insert(0,'babur')\n",
        "print(list)"
      ],
      "execution_count": 27,
      "outputs": [
        {
          "output_type": "stream",
          "text": [
            "['babur', 10, 20, 14, 12, 1, 2, 3, 1, 2, 3, 4, ['jodha', 'akbar', 100], ['jodha', 'akbar', 100]]\n"
          ],
          "name": "stdout"
        }
      ]
    },
    {
      "cell_type": "code",
      "metadata": {
        "colab": {
          "base_uri": "https://localhost:8080/"
        },
        "id": "UsueJerrDcUD",
        "outputId": "d6f983ec-69a2-4862-a865-f42204ad6b6c"
      },
      "source": [
        "#adding elements using extend method, multiple items can be added at the end of the list \n",
        "list = [1,2,3]\n",
        "list.extend([8,'gaurav','rahul'])\n",
        "print(list)"
      ],
      "execution_count": 31,
      "outputs": [
        {
          "output_type": "stream",
          "text": [
            "[1, 2, 3, 8, 'gaurav', 'rahul']\n"
          ],
          "name": "stdout"
        }
      ]
    },
    {
      "cell_type": "code",
      "metadata": {
        "colab": {
          "base_uri": "https://localhost:8080/"
        },
        "id": "jbvwMtyhEc7P",
        "outputId": "1eca4194-bd44-4e0a-fcac-ae3dfd56f2d2"
      },
      "source": [
        "#accessing elements from the list using index number\n",
        "a= list[0]\n",
        "print(a)\n",
        "#or\n",
        "print(list[0])"
      ],
      "execution_count": 33,
      "outputs": [
        {
          "output_type": "stream",
          "text": [
            "1\n",
            "1\n"
          ],
          "name": "stdout"
        }
      ]
    },
    {
      "cell_type": "code",
      "metadata": {
        "colab": {
          "base_uri": "https://localhost:8080/"
        },
        "id": "UhDc6_7UFMU4",
        "outputId": "9dcbf46c-d778-41da-ecce-020713797e00"
      },
      "source": [
        "#accessing an element from multi- dimensional list \n",
        "list=[['gaurav', 'pen'] , ['rahul', 'paper']]\n",
        "print(list[0][1])\n",
        "print(list[1][0])"
      ],
      "execution_count": 34,
      "outputs": [
        {
          "output_type": "stream",
          "text": [
            "pen\n",
            "rahul\n"
          ],
          "name": "stdout"
        }
      ]
    },
    {
      "cell_type": "code",
      "metadata": {
        "colab": {
          "base_uri": "https://localhost:8080/"
        },
        "id": "j7FEvP1_GfYh",
        "outputId": "32c003e5-aaaa-4217-a0ff-0d40a76680ba"
      },
      "source": [
        "#negative indexing \n",
        "l=[1,2,'gaurav','pen','paper','rahul']\n",
        "print(l[-2])"
      ],
      "execution_count": 35,
      "outputs": [
        {
          "output_type": "stream",
          "text": [
            "paper\n"
          ],
          "name": "stdout"
        }
      ]
    },
    {
      "cell_type": "code",
      "metadata": {
        "colab": {
          "base_uri": "https://localhost:8080/"
        },
        "id": "HNxyYD0aHA0U",
        "outputId": "5fba6d3c-f109-49a4-bbf1-4e3b38d2d31f"
      },
      "source": [
        "#removing item from a list using remove function\n",
        "l=[1,2,3,4,5,6,7,8,9,10,11,12]\n",
        "print(l)\n",
        "l.remove(8)\n",
        "l.remove(10)\n",
        "print(l)\n",
        "#removing element using iterators method\n",
        "for i in range(1,5):\n",
        "  l.remove(i)\n",
        "print(l)"
      ],
      "execution_count": 41,
      "outputs": [
        {
          "output_type": "stream",
          "text": [
            "[1, 2, 3, 4, 5, 6, 7, 8, 9, 10, 11, 12]\n",
            "[1, 2, 3, 4, 5, 6, 7, 9, 11, 12]\n",
            "[5, 6, 7, 9, 11, 12]\n"
          ],
          "name": "stdout"
        }
      ]
    },
    {
      "cell_type": "code",
      "metadata": {
        "colab": {
          "base_uri": "https://localhost:8080/"
        },
        "id": "aZMF-bByJHJ5",
        "outputId": "5d3b54a7-4db8-43d3-c7b3-cefbec18b578"
      },
      "source": [
        "#removing elements using pop function, from a specific position. it removes and return the element\n",
        "l=[1,2,3,4,5,6,7,8,9,10]\n",
        "l.pop(4)\n",
        "print(l)\n"
      ],
      "execution_count": 43,
      "outputs": [
        {
          "output_type": "stream",
          "text": [
            "[1, 2, 3, 4, 6, 7, 8, 9, 10]\n"
          ],
          "name": "stdout"
        }
      ]
    },
    {
      "cell_type": "code",
      "metadata": {
        "id": "LOXYKqx5RHPD"
      },
      "source": [
        ""
      ],
      "execution_count": null,
      "outputs": []
    }
  ]
}