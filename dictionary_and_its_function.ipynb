{
  "nbformat": 4,
  "nbformat_minor": 0,
  "metadata": {
    "colab": {
      "name": "dictionary and its function.ipynb",
      "provenance": [],
      "authorship_tag": "ABX9TyNqwQfdLB5YSbYJ0Nntdh1s",
      "include_colab_link": true
    },
    "kernelspec": {
      "name": "python3",
      "display_name": "Python 3"
    },
    "language_info": {
      "name": "python"
    }
  },
  "cells": [
    {
      "cell_type": "markdown",
      "metadata": {
        "id": "view-in-github",
        "colab_type": "text"
      },
      "source": [
        "<a href=\"https://colab.research.google.com/github/imutsaw/day1/blob/main/dictionary_and_its_function.ipynb\" target=\"_parent\"><img src=\"https://colab.research.google.com/assets/colab-badge.svg\" alt=\"Open In Colab\"/></a>"
      ]
    },
    {
      "cell_type": "code",
      "metadata": {
        "colab": {
          "base_uri": "https://localhost:8080/"
        },
        "id": "n8T9vcp8iNwZ",
        "outputId": "3fcc7e2c-9fb5-4c25-bcdf-9046ad54dbac"
      },
      "source": [
        "#creating a dictionary with integer keys\n",
        "dict = {1: 'hello', 2: 'world'}\n",
        "print(\"\\ndictionary with the use of integer key\")\n",
        "print(dict)\n",
        "\n",
        "#creating a dictionary with mixed keys\n",
        "dict ={3: 'my', 'name': 'utsaw', 4: 'is'}\n",
        "print(\"\\ndictionary with the use of mixed keys\")\n",
        "print(dict)\n"
      ],
      "execution_count": 7,
      "outputs": [
        {
          "output_type": "stream",
          "text": [
            "\n",
            "dictionary with the use of integer key\n",
            "{1: 'hello', 2: 'world'}\n",
            "\n",
            "dictionary with the use of mixed keys\n",
            "{3: 'my', 'name': 'utsaw', 4: 'is'}\n"
          ],
          "name": "stdout"
        }
      ]
    },
    {
      "cell_type": "code",
      "metadata": {
        "colab": {
          "base_uri": "https://localhost:8080/"
        },
        "id": "C0dWO-TGWjnv",
        "outputId": "4e1178a1-eb66-4335-9fb7-55057aebd631"
      },
      "source": [
        "#creating a empty dictionary\n",
        "dict= {}\n",
        "print(\"empty dictionary:\")\n",
        "print(dict)\n",
        "\n"
      ],
      "execution_count": 15,
      "outputs": [
        {
          "output_type": "stream",
          "text": [
            "empty dictionary:\n",
            "{}\n"
          ],
          "name": "stdout"
        }
      ]
    },
    {
      "cell_type": "code",
      "metadata": {
        "colab": {
          "base_uri": "https://localhost:8080/"
        },
        "id": "QppNDSILdtVp",
        "outputId": "a70c085c-8d0f-45ba-9c8c-cfc09bbc57db"
      },
      "source": [
        "#nested dictionary\n",
        "Dict = {1: 'hello', 2: 'world', \n",
        "        3:{'A' : 'Welcome', 'B' : 'To', 'C' : 'India'}}\n",
        "  \n",
        "print(Dict) "
      ],
      "execution_count": 17,
      "outputs": [
        {
          "output_type": "stream",
          "text": [
            "{1: 'hello', 2: 'world', 3: {'A': 'Welcome', 'B': 'To', 'C': 'India'}}\n"
          ],
          "name": "stdout"
        }
      ]
    },
    {
      "cell_type": "code",
      "metadata": {
        "colab": {
          "base_uri": "https://localhost:8080/"
        },
        "id": "KfQWHGQWlG6Q",
        "outputId": "952c6cf1-92c1-4dd8-c63e-98f1b1a18bbf"
      },
      "source": [
        "#creating an empty dictionary\n",
        "dict={}\n",
        "print(dict)\n",
        "\n",
        "#adding elements one at a time\n",
        "dict[0]='hello'\n",
        "dict[2]='world'\n",
        "dict[3]=1\n",
        "print(\"\\ndictionary after adding 3 elements:\", dict)\n",
        "\n",
        "#updating existing key's value\n",
        "dict[2]='welcome'\n",
        "print(\"\\nupdated key value:\", dict)\n",
        "\n",
        "#adding nested key value to dictionary\n",
        "dict[5]={'nested' :{1:'life',2: 'hello', }}\n",
        "print(\"\\nadding a nested key:\", dict)"
      ],
      "execution_count": 18,
      "outputs": [
        {
          "output_type": "stream",
          "text": [
            "{}\n",
            "\n",
            "dictionary after adding 3 elements: {0: 'hello', 2: 'world', 3: 1}\n",
            "\n",
            "updated key value: {0: 'hello', 2: 'welcome', 3: 1}\n",
            "\n",
            "adding a nested key: {0: 'hello', 2: 'welcome', 3: 1, 5: {'nested': {1: 'life', 2: 'hello'}}}\n"
          ],
          "name": "stdout"
        }
      ]
    },
    {
      "cell_type": "code",
      "metadata": {
        "colab": {
          "base_uri": "https://localhost:8080/"
        },
        "id": "O3903YMbqh46",
        "outputId": "7fa3cd38-b7bc-4287-8c94-dd41b7cef5fb"
      },
      "source": [
        "#accessing elements from dictionary using key\n",
        "dict= {1:'earth', 'name':'for', 3:'day'}\n",
        "print(\"\\naccessing a element using key:\", dict['name'])\n",
        "print(\"\\naccessing a element using key:\", dict[1])"
      ],
      "execution_count": 19,
      "outputs": [
        {
          "output_type": "stream",
          "text": [
            "\n",
            "accessing a element using key: for\n",
            "\n",
            "accessing a element using key: earth\n"
          ],
          "name": "stdout"
        }
      ]
    },
    {
      "cell_type": "code",
      "metadata": {
        "colab": {
          "base_uri": "https://localhost:8080/"
        },
        "id": "F8YM56_4v3oi",
        "outputId": "facf599f-3632-430d-e46f-11d9f1268acf"
      },
      "source": [
        "#accessing elements using get  function\n",
        "print(\"\\naccessing elements using get:\", dict.get(3))"
      ],
      "execution_count": 20,
      "outputs": [
        {
          "output_type": "stream",
          "text": [
            "\n",
            "accessing elements using get: day\n"
          ],
          "name": "stdout"
        }
      ]
    },
    {
      "cell_type": "code",
      "metadata": {
        "colab": {
          "base_uri": "https://localhost:8080/"
        },
        "id": "aIrrmPWuwjey",
        "outputId": "e15e68cb-280a-41b8-d591-82a1d24d3702"
      },
      "source": [
        "#accessing elements of a nested dictionary\n",
        "Dict = {'Dict1': {1: 'hello'},\n",
        "        'Dict2': {'Name': 'world'},\n",
        "        'A':{1:'my', 2:'name', 3:'is','4':'khan'}}\n",
        "print(Dict['Dict1'])\n",
        "print(Dict['Dict1'][1])\n",
        "print(Dict['Dict2']['Name'])\n"
      ],
      "execution_count": 8,
      "outputs": [
        {
          "output_type": "stream",
          "text": [
            "{1: 'hello'}\n",
            "hello\n",
            "world\n"
          ],
          "name": "stdout"
        }
      ]
    },
    {
      "cell_type": "code",
      "metadata": {
        "colab": {
          "base_uri": "https://localhost:8080/"
        },
        "id": "to_jjuq1jPkW",
        "outputId": "0ccb0b53-f7cb-4096-d380-d439775ed9e4"
      },
      "source": [
        "#removing elements form a dictionary\n",
        "#using del keyword\n",
        "print(\"\\nInitial Dictionary:\", Dict)\n",
        "#Deleting a key value\n",
        "del Dict['Dict1']\n",
        "print(Dict)\n",
        "\n",
        "#deleting a key from a nested dictionary\n",
        "del Dict['A'][2]\n",
        "print(Dict)\n"
      ],
      "execution_count": 9,
      "outputs": [
        {
          "output_type": "stream",
          "text": [
            "\n",
            "Initial Dictionary: {'Dict1': {1: 'hello'}, 'Dict2': {'Name': 'world'}, 'A': {1: 'my', 2: 'name', 3: 'is', '4': 'khan'}}\n",
            "{'Dict2': {'Name': 'world'}, 'A': {1: 'my', 2: 'name', 3: 'is', '4': 'khan'}}\n",
            "{'Dict2': {'Name': 'world'}, 'A': {1: 'my', 3: 'is', '4': 'khan'}}\n"
          ],
          "name": "stdout"
        }
      ]
    },
    {
      "cell_type": "code",
      "metadata": {
        "id": "IYNX170vmGGC"
      },
      "source": [
        "#also the items of a dictionay can be deleted by POP method popitems and clear method"
      ],
      "execution_count": 10,
      "outputs": []
    },
    {
      "cell_type": "code",
      "metadata": {
        "id": "m4bZf_YvnOMW"
      },
      "source": [
        ""
      ],
      "execution_count": null,
      "outputs": []
    }
  ]
}