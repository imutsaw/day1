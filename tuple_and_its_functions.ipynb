{
  "nbformat": 4,
  "nbformat_minor": 0,
  "metadata": {
    "colab": {
      "name": "tuple and its functions.ipynb",
      "provenance": [],
      "authorship_tag": "ABX9TyNOvC/b8DerpYsmo//t42Uu",
      "include_colab_link": true
    },
    "kernelspec": {
      "name": "python3",
      "display_name": "Python 3"
    },
    "language_info": {
      "name": "python"
    }
  },
  "cells": [
    {
      "cell_type": "markdown",
      "metadata": {
        "id": "view-in-github",
        "colab_type": "text"
      },
      "source": [
        "<a href=\"https://colab.research.google.com/github/imutsaw/day1/blob/main/tuple_and_its_functions.ipynb\" target=\"_parent\"><img src=\"https://colab.research.google.com/assets/colab-badge.svg\" alt=\"Open In Colab\"/></a>"
      ]
    },
    {
      "cell_type": "code",
      "metadata": {
        "colab": {
          "base_uri": "https://localhost:8080/"
        },
        "id": "LyZ74n2-ZFTM",
        "outputId": "a780e262-1882-45fe-fcc5-b98ea1ad0935"
      },
      "source": [
        "#tuples\n",
        "#creating tuples with mixed data types\n",
        "tup1=(5,'hello', 7,'world')\n",
        "print(tup1)\n",
        "\n",
        "#creating a nested tuple\n",
        "tup2=(6,8,9)\n",
        "tup3=(tup1, tup2)\n",
        "print(\"\\nnested tuple:\", tup3)"
      ],
      "execution_count": 4,
      "outputs": [
        {
          "output_type": "stream",
          "text": [
            "(5, 'hello', 7, 'world')\n",
            "\n",
            "nested tuple: ((5, 'hello', 7, 'world'), (6, 8, 9))\n"
          ],
          "name": "stdout"
        }
      ]
    },
    {
      "cell_type": "code",
      "metadata": {
        "colab": {
          "base_uri": "https://localhost:8080/"
        },
        "id": "tUoh38SYZurt",
        "outputId": "cefd50b6-eacf-4bb5-dfd6-3d62c5cc7ae1"
      },
      "source": [
        "#accessing tuples using indexing\n",
        "tup1=(\"hello\")\n",
        "print(tup1[1])      "
      ],
      "execution_count": 5,
      "outputs": [
        {
          "output_type": "stream",
          "text": [
            "e\n"
          ],
          "name": "stdout"
        }
      ]
    },
    {
      "cell_type": "code",
      "metadata": {
        "colab": {
          "base_uri": "https://localhost:8080/"
        },
        "id": "2e9E1Kx5bRIl",
        "outputId": "165716ae-c7a2-4870-a6f4-10b8905a8919"
      },
      "source": [
        "#creating tuples using built in tuple function\n",
        "tup= tuple('hello')\n",
        "print(tup)"
      ],
      "execution_count": 6,
      "outputs": [
        {
          "output_type": "stream",
          "text": [
            "('h', 'e', 'l', 'l', 'o')\n"
          ],
          "name": "stdout"
        }
      ]
    },
    {
      "cell_type": "code",
      "metadata": {
        "colab": {
          "base_uri": "https://localhost:8080/"
        },
        "id": "DE9S9Uk1cTUg",
        "outputId": "aa0c3e19-1afa-4514-d25d-812d7596624a"
      },
      "source": [
        "#tuple unpacking \n",
        "tup1=(\"world\", \"environment\", \"day\")\n",
        "#this line unpack \n",
        "#values of tuple\n",
        "a,b,c= tup1\n",
        "print(\"values after unpacking:\")\n",
        "print(a)\n",
        "print(b)\n",
        "print(c)\n"
      ],
      "execution_count": 7,
      "outputs": [
        {
          "output_type": "stream",
          "text": [
            "values after unpacking:\n",
            "world\n",
            "environment\n",
            "day\n"
          ],
          "name": "stdout"
        }
      ]
    },
    {
      "cell_type": "code",
      "metadata": {
        "colab": {
          "base_uri": "https://localhost:8080/"
        },
        "id": "0eirD7xFdq_X",
        "outputId": "3311d5f8-21ed-41db-b541-967cc223334a"
      },
      "source": [
        "#concatanation of tuples\n",
        "tup1=(1,2,3,4)\n",
        "tup2=('world', 'environment', 'day')\n",
        "tup3= tup1 + tup2\n",
        "\n",
        "print(tup1)\n",
        "print(tup2)\n",
        "print(tup3)   #concatenated tuple"
      ],
      "execution_count": 9,
      "outputs": [
        {
          "output_type": "stream",
          "text": [
            "(1, 2, 3, 4)\n",
            "('world', 'environment', 'day')\n",
            "(1, 2, 3, 4, 'world', 'environment', 'day')\n"
          ],
          "name": "stdout"
        }
      ]
    },
    {
      "cell_type": "code",
      "metadata": {
        "colab": {
          "base_uri": "https://localhost:8080/",
          "height": 201
        },
        "id": "tfSNNdtree6L",
        "outputId": "4df7e207-cbe3-4446-bbe6-ba282e46d056"
      },
      "source": [
        "#since tuple is immutable it cannot be deleted \n",
        "Tuple1 = (0, 1, 2, 3, 4)\n",
        "del Tuple1\n",
        " \n",
        "print(Tuple1)"
      ],
      "execution_count": 10,
      "outputs": [
        {
          "output_type": "error",
          "ename": "NameError",
          "evalue": "ignored",
          "traceback": [
            "\u001b[0;31m---------------------------------------------------------------------------\u001b[0m",
            "\u001b[0;31mNameError\u001b[0m                                 Traceback (most recent call last)",
            "\u001b[0;32m<ipython-input-10-56640e30c6c7>\u001b[0m in \u001b[0;36m<module>\u001b[0;34m()\u001b[0m\n\u001b[1;32m      3\u001b[0m \u001b[0;32mdel\u001b[0m \u001b[0mTuple1\u001b[0m\u001b[0;34m\u001b[0m\u001b[0;34m\u001b[0m\u001b[0m\n\u001b[1;32m      4\u001b[0m \u001b[0;34m\u001b[0m\u001b[0m\n\u001b[0;32m----> 5\u001b[0;31m \u001b[0mprint\u001b[0m\u001b[0;34m(\u001b[0m\u001b[0mTuple1\u001b[0m\u001b[0;34m)\u001b[0m\u001b[0;34m\u001b[0m\u001b[0;34m\u001b[0m\u001b[0m\n\u001b[0m",
            "\u001b[0;31mNameError\u001b[0m: name 'Tuple1' is not defined"
          ]
        }
      ]
    },
    {
      "cell_type": "code",
      "metadata": {
        "id": "g-oP-2pwfirz"
      },
      "source": [
        ""
      ],
      "execution_count": null,
      "outputs": []
    }
  ]
}