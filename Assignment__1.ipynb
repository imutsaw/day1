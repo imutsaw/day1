{
  "nbformat": 4,
  "nbformat_minor": 0,
  "metadata": {
    "colab": {
      "name": "Assignment _1.ipynb",
      "provenance": [],
      "authorship_tag": "ABX9TyPApbY1WuQxeNJ3dWetFTlF",
      "include_colab_link": true
    },
    "kernelspec": {
      "name": "python3",
      "display_name": "Python 3"
    },
    "language_info": {
      "name": "python"
    }
  },
  "cells": [
    {
      "cell_type": "markdown",
      "metadata": {
        "id": "view-in-github",
        "colab_type": "text"
      },
      "source": [
        "<a href=\"https://colab.research.google.com/github/imutsaw/day1/blob/main/Assignment__1.ipynb\" target=\"_parent\"><img src=\"https://colab.research.google.com/assets/colab-badge.svg\" alt=\"Open In Colab\"/></a>"
      ]
    },
    {
      "cell_type": "code",
      "metadata": {
        "colab": {
          "base_uri": "https://localhost:8080/"
        },
        "id": "RKIXsawa7AU8",
        "outputId": "20f7d0ce-b4a8-41a5-d567-f9df9a2c6ff1"
      },
      "source": [
        "#Python Program to Convert Kilometers to Miles\n",
        "km = float(input(\"Enter the distance in kilometer: \"))\n",
        "print(\"The distance in miles: \", km * 0.621371,\" miles\" )  # 1 km = 0.621371 miles"
      ],
      "execution_count": 14,
      "outputs": [
        {
          "output_type": "stream",
          "text": [
            "Enter the distance in kilometer: 4\n",
            "The distance in miles:  2.485484  miles\n"
          ],
          "name": "stdout"
        }
      ]
    },
    {
      "cell_type": "code",
      "metadata": {
        "colab": {
          "base_uri": "https://localhost:8080/"
        },
        "id": "zm2hKGnGnXxt",
        "outputId": "08194dd5-074f-4fe2-fb42-7cfa59e9a0e2"
      },
      "source": [
        "#Python Program to Convert Celsius To Fahrenheit\n",
        "c = float(input(\"Enter the temperature in celcius: \"))\n",
        "print(\"The temperature in farenheit: \", c * 33.8,\" F\")    ## 1 celcius = 33.8 farenheit"
      ],
      "execution_count": 15,
      "outputs": [
        {
          "output_type": "stream",
          "text": [
            "Enter the temperature in celcius: 2\n",
            "The temperature in farenheit:  67.6  F\n"
          ],
          "name": "stdout"
        }
      ]
    },
    {
      "cell_type": "code",
      "metadata": {
        "colab": {
          "base_uri": "https://localhost:8080/"
        },
        "id": "1ebBYd2tqJlb",
        "outputId": "9e02cd65-48ac-4e55-cb87-3d7aca4fa5f3"
      },
      "source": [
        "#Python Program to Check if a Number is Positive, Negative or 0\n",
        "num = int(input(\"Enter the number: \"))\n",
        "\n",
        "if num > 0:\n",
        "  print(\"The number entered is a positive integer\")\n",
        "\n",
        "elif num < 0:\n",
        "  print(\"The number entered is a negative integer\")\n",
        "\n",
        "else:\n",
        "  print(\"The number entered is 0\")\n",
        "  "
      ],
      "execution_count": 6,
      "outputs": [
        {
          "output_type": "stream",
          "text": [
            "Enter the number: -7\n",
            "The number entered is a negative integer\n"
          ],
          "name": "stdout"
        }
      ]
    },
    {
      "cell_type": "code",
      "metadata": {
        "colab": {
          "base_uri": "https://localhost:8080/"
        },
        "id": "GOuXG3MBuQnK",
        "outputId": "d0f0531b-a33b-46b4-a25a-cea294f320ae"
      },
      "source": [
        "#Python Program to Check if a Number is Odd or Even\n",
        "num = int(input(\"Enter the number: \"))\n",
        "if (num % 2) == 0:\n",
        "  print(num, \" is an Even number\")\n",
        "else:\n",
        "  print(num, \" is an odd number\")"
      ],
      "execution_count": 12,
      "outputs": [
        {
          "output_type": "stream",
          "text": [
            "Enter the number: 8\n",
            "8  is an Even number\n"
          ],
          "name": "stdout"
        }
      ]
    },
    {
      "cell_type": "code",
      "metadata": {
        "colab": {
          "base_uri": "https://localhost:8080/"
        },
        "id": "Yl9rAEg0vZmd",
        "outputId": "54e21c5c-cb3e-4f89-97f8-b31de30b86c9"
      },
      "source": [
        "#Python Program to Check Leap Year\n",
        "\n",
        "year = int(input(\"Enter an year:\"))\n",
        "if (year % 4 == 0):\n",
        "    if (year % 100 == 0):\n",
        "        if (year % 400 == 0):\n",
        "            print (year, \" is a leap year\")\n",
        "        else:\n",
        "            print (year, \" is not a leap year\")\n",
        "    else:\n",
        "         print (year,\" is a leap year\")\n",
        "else:\n",
        "     print (year, \" is not a leap year\")"
      ],
      "execution_count": 17,
      "outputs": [
        {
          "output_type": "stream",
          "text": [
            "Enter an year:2001\n",
            "2001  is not a leap year\n"
          ],
          "name": "stdout"
        }
      ]
    },
    {
      "cell_type": "code",
      "metadata": {
        "colab": {
          "base_uri": "https://localhost:8080/"
        },
        "id": "M6WzFtKYSZ_s",
        "outputId": "579c11cc-6329-49cf-8784-8f380e3ed308"
      },
      "source": [
        "#Python Program to Find the Largest Among Three Numbers\n",
        "\n",
        "a = int(input(\"Enter the 1st number: \"))\n",
        "b = int(input(\"Enter the 2nd number: \"))\n",
        "c = int(input(\"Enter the 3rd number: \"))\n",
        "if a > b and a > c:\n",
        "    print(a, \" is the largest number\")\n",
        "elif b > a and b > c:\n",
        "     print(b, \" is the largest number\")\n",
        "else:\n",
        "     print(c, \" is the largest number\")"
      ],
      "execution_count": 19,
      "outputs": [
        {
          "output_type": "stream",
          "text": [
            "Enter the 1st number: 3\n",
            "Enter the 2nd number: 5\n",
            "Enter the 3rd number: 3\n",
            "5  is the largest number\n"
          ],
          "name": "stdout"
        }
      ]
    },
    {
      "cell_type": "code",
      "metadata": {
        "colab": {
          "base_uri": "https://localhost:8080/"
        },
        "id": "Mv8aNoe-T_tU",
        "outputId": "5e5ab921-6bb9-4c17-d9fa-816686788973"
      },
      "source": [
        "#Write a Python Program to check if a number is prime or not\n",
        "\n",
        "num = int(input(\"Enter a number: \"))\n",
        "flag = 0\n",
        "for i in range (2, num):\n",
        "    if (num % i == 0):\n",
        "        flag = 1\n",
        "        \n",
        "if flag == 1:\n",
        "    print ( num,\" is not a prime number\")\n",
        "else:\n",
        "    print (num,\" is a prime number\")"
      ],
      "execution_count": 23,
      "outputs": [
        {
          "output_type": "stream",
          "text": [
            "Enter a number: 11\n",
            "11  is a prime number\n"
          ],
          "name": "stdout"
        }
      ]
    },
    {
      "cell_type": "code",
      "metadata": {
        "colab": {
          "base_uri": "https://localhost:8080/"
        },
        "id": "iOKCUqaMUvLg",
        "outputId": "5a5895cd-46d5-48d5-de73-8d3bb1cc5aee"
      },
      "source": [
        "#Python program to display all the prime numbers within an interval\n",
        "\n",
        "low = int(input(\"Enter lower limit of the range: \"))\n",
        "up = int(input(\"Enter upper limit of the range: \"))\n",
        "print (\"List of prime numbers between\", low , \"and\", up, \"are : \")\n",
        "for i in range (low, up + 1):\n",
        "    for j in range(2, i):\n",
        "        if i > 1:\n",
        "            if i % j == 0:\n",
        "                 break\n",
        "    else:\n",
        "        print(i)"
      ],
      "execution_count": 24,
      "outputs": [
        {
          "output_type": "stream",
          "text": [
            "Enter lower limit of the range: 2\n",
            "Enter upper limit of the range: 9\n",
            "List of prime numbers between 2 and 9 are : \n",
            "2\n",
            "3\n",
            "5\n",
            "7\n"
          ],
          "name": "stdout"
        }
      ]
    },
    {
      "cell_type": "code",
      "metadata": {
        "colab": {
          "base_uri": "https://localhost:8080/"
        },
        "id": "TrrcRxl7U3yh",
        "outputId": "62ee2902-3904-477f-8320-d5c24e94a8ee"
      },
      "source": [
        "#Python program to find the factorial of a number\n",
        "\n",
        "num = int(input(\"Enter the number:\"))\n",
        "fact = 1\n",
        "if (num == 0):\n",
        "    print (\"Factorial: 0\")\n",
        "elif (num == 1):\n",
        "    print (\"Factorial: 1\")\n",
        "else:\n",
        "    for i in range (num, 0, -1):\n",
        "        fact = fact * i\n",
        "print (\"Factorial: \", fact)"
      ],
      "execution_count": 28,
      "outputs": [
        {
          "output_type": "stream",
          "text": [
            "Enter the number:6\n",
            "Factorial:  720\n"
          ],
          "name": "stdout"
        }
      ]
    },
    {
      "cell_type": "code",
      "metadata": {
        "colab": {
          "base_uri": "https://localhost:8080/"
        },
        "id": "3BwBjiSGU7V_",
        "outputId": "23c8e2d3-4f01-499a-9ed6-240a6f1aec40"
      },
      "source": [
        "#Python Program to Display the multiplication Table\n",
        "\n",
        "num = int(input(\"Enter a number: \"))\n",
        "print (\"Multiplication table of: \", num)\n",
        "for i in range (1, 11):\n",
        "    print (num, \"x\", i, \"=\", num * i)"
      ],
      "execution_count": 31,
      "outputs": [
        {
          "output_type": "stream",
          "text": [
            "Enter a number: 5\n",
            "Multiplication table of:  5\n",
            "5 x 1 = 5\n",
            "5 x 2 = 10\n",
            "5 x 3 = 15\n",
            "5 x 4 = 20\n",
            "5 x 5 = 25\n",
            "5 x 6 = 30\n",
            "5 x 7 = 35\n",
            "5 x 8 = 40\n",
            "5 x 9 = 45\n",
            "5 x 10 = 50\n"
          ],
          "name": "stdout"
        }
      ]
    },
    {
      "cell_type": "code",
      "metadata": {
        "colab": {
          "base_uri": "https://localhost:8080/"
        },
        "id": "iZZfpzdFU9q9",
        "outputId": "1bef69ba-0094-4fd2-edcb-6915e8269b6d"
      },
      "source": [
        "#Python Program to Print the Fibonacci sequence\n",
        "\n",
        "num = int(input(\"Enter a number: \"))\n",
        "a = 0\n",
        "b = 1\n",
        "print (\"Fibonacci series for: \", num)\n",
        "if num == 0:\n",
        "    print (a)\n",
        "elif num == 1:\n",
        "    print (b)\n",
        "else:\n",
        "    print (a)\n",
        "    print (b)\n",
        "    for i in range(2, num + 1):\n",
        "        c = a + b\n",
        "        a, b = b, c\n",
        "        print (c)"
      ],
      "execution_count": 33,
      "outputs": [
        {
          "output_type": "stream",
          "text": [
            "Enter a number: 5\n",
            "Fibonacci series for:  5\n",
            "0\n",
            "1\n",
            "1\n",
            "2\n",
            "3\n",
            "5\n"
          ],
          "name": "stdout"
        }
      ]
    },
    {
      "cell_type": "code",
      "metadata": {
        "colab": {
          "base_uri": "https://localhost:8080/"
        },
        "id": "CtOxfyZRVAwX",
        "outputId": "87b3588d-35f5-43dc-bf7d-81b6aeaa8951"
      },
      "source": [
        "#Python Program to Check Armstrong Number (for 3 digits)\n",
        "\n",
        "num = int(input(\"Enter a number: \"))\n",
        "l = len(str(num))\n",
        "check = 0\n",
        "temp = num\n",
        "while (temp > 0):\n",
        "    d = temp % 10\n",
        "    check += d ** l\n",
        "    temp //= 10\n",
        "    \n",
        "if (check == num):\n",
        "    print (num , \" is an Armstrong number\")\n",
        "else:\n",
        "    print (num ,\" is not an Armstrong number\")"
      ],
      "execution_count": 36,
      "outputs": [
        {
          "output_type": "stream",
          "text": [
            "Enter a number: 7\n",
            "7  is an Armstrong number\n"
          ],
          "name": "stdout"
        }
      ]
    }
  ]
}