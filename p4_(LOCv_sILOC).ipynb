{
  "nbformat": 4,
  "nbformat_minor": 0,
  "metadata": {
    "colab": {
      "name": "p4 (LOCv/sILOC).ipynb",
      "provenance": [],
      "authorship_tag": "ABX9TyPFmI7w03Ia2r2/dmgMsn+f",
      "include_colab_link": true
    },
    "kernelspec": {
      "name": "python3",
      "display_name": "Python 3"
    },
    "language_info": {
      "name": "python"
    }
  },
  "cells": [
    {
      "cell_type": "markdown",
      "metadata": {
        "id": "view-in-github",
        "colab_type": "text"
      },
      "source": [
        "<a href=\"https://colab.research.google.com/github/imutsaw/python/blob/main/p4_(LOCv_sILOC).ipynb\" target=\"_parent\"><img src=\"https://colab.research.google.com/assets/colab-badge.svg\" alt=\"Open In Colab\"/></a>"
      ]
    },
    {
      "cell_type": "code",
      "metadata": {
        "colab": {
          "base_uri": "https://localhost:8080/",
          "height": 237
        },
        "id": "XYrPkDL-vNoP",
        "outputId": "d29a3ccf-eb0c-4051-d629-604628afd8cb"
      },
      "source": [
        "import pandas as pd\n",
        "import numpy as np\n",
        "#creating our own dataframe\n",
        "data = pd.DataFrame({\n",
        "    'Name':    ['sarthak', 'sonali', 'pratham', 'pratima','somesh','aquib'],\n",
        "    'Section': ['A','B','A','B','B','A'],\n",
        "    'Marks':   [90, 100, 75, 70, 60, 95],\n",
        "    'Gender':  ['M', 'F', 'M', 'F', 'M', 'M'],\n",
        "    'Stream':  ['comm', 'science', 'comm', 'arts', np.NAN,'arts']\n",
        "})\n",
        "\n",
        "#viewing of data\n",
        "data"
      ],
      "execution_count": 2,
      "outputs": [
        {
          "output_type": "execute_result",
          "data": {
            "text/html": [
              "<div>\n",
              "<style scoped>\n",
              "    .dataframe tbody tr th:only-of-type {\n",
              "        vertical-align: middle;\n",
              "    }\n",
              "\n",
              "    .dataframe tbody tr th {\n",
              "        vertical-align: top;\n",
              "    }\n",
              "\n",
              "    .dataframe thead th {\n",
              "        text-align: right;\n",
              "    }\n",
              "</style>\n",
              "<table border=\"1\" class=\"dataframe\">\n",
              "  <thead>\n",
              "    <tr style=\"text-align: right;\">\n",
              "      <th></th>\n",
              "      <th>Name</th>\n",
              "      <th>Section</th>\n",
              "      <th>Marks</th>\n",
              "      <th>Gender</th>\n",
              "      <th>Stream</th>\n",
              "    </tr>\n",
              "  </thead>\n",
              "  <tbody>\n",
              "    <tr>\n",
              "      <th>0</th>\n",
              "      <td>sarthak</td>\n",
              "      <td>A</td>\n",
              "      <td>90</td>\n",
              "      <td>M</td>\n",
              "      <td>comm</td>\n",
              "    </tr>\n",
              "    <tr>\n",
              "      <th>1</th>\n",
              "      <td>sonali</td>\n",
              "      <td>B</td>\n",
              "      <td>100</td>\n",
              "      <td>F</td>\n",
              "      <td>science</td>\n",
              "    </tr>\n",
              "    <tr>\n",
              "      <th>2</th>\n",
              "      <td>pratham</td>\n",
              "      <td>A</td>\n",
              "      <td>75</td>\n",
              "      <td>M</td>\n",
              "      <td>comm</td>\n",
              "    </tr>\n",
              "    <tr>\n",
              "      <th>3</th>\n",
              "      <td>pratima</td>\n",
              "      <td>B</td>\n",
              "      <td>70</td>\n",
              "      <td>F</td>\n",
              "      <td>arts</td>\n",
              "    </tr>\n",
              "    <tr>\n",
              "      <th>4</th>\n",
              "      <td>somesh</td>\n",
              "      <td>B</td>\n",
              "      <td>60</td>\n",
              "      <td>M</td>\n",
              "      <td>NaN</td>\n",
              "    </tr>\n",
              "    <tr>\n",
              "      <th>5</th>\n",
              "      <td>aquib</td>\n",
              "      <td>A</td>\n",
              "      <td>95</td>\n",
              "      <td>M</td>\n",
              "      <td>arts</td>\n",
              "    </tr>\n",
              "  </tbody>\n",
              "</table>\n",
              "</div>"
            ],
            "text/plain": [
              "      Name Section  Marks Gender   Stream\n",
              "0  sarthak       A     90      M     comm\n",
              "1   sonali       B    100      F  science\n",
              "2  pratham       A     75      M     comm\n",
              "3  pratima       B     70      F     arts\n",
              "4   somesh       B     60      M      NaN\n",
              "5    aquib       A     95      M     arts"
            ]
          },
          "metadata": {
            "tags": []
          },
          "execution_count": 2
        }
      ]
    },
    {
      "cell_type": "code",
      "metadata": {
        "colab": {
          "base_uri": "https://localhost:8080/",
          "height": 143
        },
        "id": "MQob8rIvypJa",
        "outputId": "864b3772-6716-41a3-d93d-131c9236f451"
      },
      "source": [
        "data.loc[2:4,['Name','Marks']]"
      ],
      "execution_count": 3,
      "outputs": [
        {
          "output_type": "execute_result",
          "data": {
            "text/html": [
              "<div>\n",
              "<style scoped>\n",
              "    .dataframe tbody tr th:only-of-type {\n",
              "        vertical-align: middle;\n",
              "    }\n",
              "\n",
              "    .dataframe tbody tr th {\n",
              "        vertical-align: top;\n",
              "    }\n",
              "\n",
              "    .dataframe thead th {\n",
              "        text-align: right;\n",
              "    }\n",
              "</style>\n",
              "<table border=\"1\" class=\"dataframe\">\n",
              "  <thead>\n",
              "    <tr style=\"text-align: right;\">\n",
              "      <th></th>\n",
              "      <th>Name</th>\n",
              "      <th>Marks</th>\n",
              "    </tr>\n",
              "  </thead>\n",
              "  <tbody>\n",
              "    <tr>\n",
              "      <th>2</th>\n",
              "      <td>pratham</td>\n",
              "      <td>75</td>\n",
              "    </tr>\n",
              "    <tr>\n",
              "      <th>3</th>\n",
              "      <td>pratima</td>\n",
              "      <td>70</td>\n",
              "    </tr>\n",
              "    <tr>\n",
              "      <th>4</th>\n",
              "      <td>somesh</td>\n",
              "      <td>60</td>\n",
              "    </tr>\n",
              "  </tbody>\n",
              "</table>\n",
              "</div>"
            ],
            "text/plain": [
              "      Name  Marks\n",
              "2  pratham     75\n",
              "3  pratima     70\n",
              "4   somesh     60"
            ]
          },
          "metadata": {
            "tags": []
          },
          "execution_count": 3
        }
      ]
    },
    {
      "cell_type": "code",
      "metadata": {
        "colab": {
          "base_uri": "https://localhost:8080/",
          "height": 112
        },
        "id": "g7PvBSar06Gl",
        "outputId": "d5d8dd7c-463f-49fa-aeb7-f1faf3843dc6"
      },
      "source": [
        "data.iloc[2:4,[0,2]]"
      ],
      "execution_count": 5,
      "outputs": [
        {
          "output_type": "execute_result",
          "data": {
            "text/html": [
              "<div>\n",
              "<style scoped>\n",
              "    .dataframe tbody tr th:only-of-type {\n",
              "        vertical-align: middle;\n",
              "    }\n",
              "\n",
              "    .dataframe tbody tr th {\n",
              "        vertical-align: top;\n",
              "    }\n",
              "\n",
              "    .dataframe thead th {\n",
              "        text-align: right;\n",
              "    }\n",
              "</style>\n",
              "<table border=\"1\" class=\"dataframe\">\n",
              "  <thead>\n",
              "    <tr style=\"text-align: right;\">\n",
              "      <th></th>\n",
              "      <th>Name</th>\n",
              "      <th>Marks</th>\n",
              "    </tr>\n",
              "  </thead>\n",
              "  <tbody>\n",
              "    <tr>\n",
              "      <th>2</th>\n",
              "      <td>pratham</td>\n",
              "      <td>75</td>\n",
              "    </tr>\n",
              "    <tr>\n",
              "      <th>3</th>\n",
              "      <td>pratima</td>\n",
              "      <td>70</td>\n",
              "    </tr>\n",
              "  </tbody>\n",
              "</table>\n",
              "</div>"
            ],
            "text/plain": [
              "      Name  Marks\n",
              "2  pratham     75\n",
              "3  pratima     70"
            ]
          },
          "metadata": {
            "tags": []
          },
          "execution_count": 5
        }
      ]
    },
    {
      "cell_type": "code",
      "metadata": {
        "colab": {
          "base_uri": "https://localhost:8080/",
          "height": 143
        },
        "id": "s-kzqV4W1k22",
        "outputId": "22885550-506e-4cc2-ba9a-144777e6bd61"
      },
      "source": [
        "data.loc[data.Marks > 75 ]"
      ],
      "execution_count": 6,
      "outputs": [
        {
          "output_type": "execute_result",
          "data": {
            "text/html": [
              "<div>\n",
              "<style scoped>\n",
              "    .dataframe tbody tr th:only-of-type {\n",
              "        vertical-align: middle;\n",
              "    }\n",
              "\n",
              "    .dataframe tbody tr th {\n",
              "        vertical-align: top;\n",
              "    }\n",
              "\n",
              "    .dataframe thead th {\n",
              "        text-align: right;\n",
              "    }\n",
              "</style>\n",
              "<table border=\"1\" class=\"dataframe\">\n",
              "  <thead>\n",
              "    <tr style=\"text-align: right;\">\n",
              "      <th></th>\n",
              "      <th>Name</th>\n",
              "      <th>Section</th>\n",
              "      <th>Marks</th>\n",
              "      <th>Gender</th>\n",
              "      <th>Stream</th>\n",
              "    </tr>\n",
              "  </thead>\n",
              "  <tbody>\n",
              "    <tr>\n",
              "      <th>0</th>\n",
              "      <td>sarthak</td>\n",
              "      <td>A</td>\n",
              "      <td>90</td>\n",
              "      <td>M</td>\n",
              "      <td>comm</td>\n",
              "    </tr>\n",
              "    <tr>\n",
              "      <th>1</th>\n",
              "      <td>sonali</td>\n",
              "      <td>B</td>\n",
              "      <td>100</td>\n",
              "      <td>F</td>\n",
              "      <td>science</td>\n",
              "    </tr>\n",
              "    <tr>\n",
              "      <th>5</th>\n",
              "      <td>aquib</td>\n",
              "      <td>A</td>\n",
              "      <td>95</td>\n",
              "      <td>M</td>\n",
              "      <td>arts</td>\n",
              "    </tr>\n",
              "  </tbody>\n",
              "</table>\n",
              "</div>"
            ],
            "text/plain": [
              "      Name Section  Marks Gender   Stream\n",
              "0  sarthak       A     90      M     comm\n",
              "1   sonali       B    100      F  science\n",
              "5    aquib       A     95      M     arts"
            ]
          },
          "metadata": {
            "tags": []
          },
          "execution_count": 6
        }
      ]
    },
    {
      "cell_type": "code",
      "metadata": {
        "colab": {
          "base_uri": "https://localhost:8080/",
          "height": 143
        },
        "id": "JOyYShPE2XK2",
        "outputId": "7af519dd-d1fd-4f13-92ba-234a4a1d2a57"
      },
      "source": [
        "#select with multiple conditions\n",
        "data.loc[(data.Marks >= 70) & (data.Gender == 'M')]"
      ],
      "execution_count": 7,
      "outputs": [
        {
          "output_type": "execute_result",
          "data": {
            "text/html": [
              "<div>\n",
              "<style scoped>\n",
              "    .dataframe tbody tr th:only-of-type {\n",
              "        vertical-align: middle;\n",
              "    }\n",
              "\n",
              "    .dataframe tbody tr th {\n",
              "        vertical-align: top;\n",
              "    }\n",
              "\n",
              "    .dataframe thead th {\n",
              "        text-align: right;\n",
              "    }\n",
              "</style>\n",
              "<table border=\"1\" class=\"dataframe\">\n",
              "  <thead>\n",
              "    <tr style=\"text-align: right;\">\n",
              "      <th></th>\n",
              "      <th>Name</th>\n",
              "      <th>Section</th>\n",
              "      <th>Marks</th>\n",
              "      <th>Gender</th>\n",
              "      <th>Stream</th>\n",
              "    </tr>\n",
              "  </thead>\n",
              "  <tbody>\n",
              "    <tr>\n",
              "      <th>0</th>\n",
              "      <td>sarthak</td>\n",
              "      <td>A</td>\n",
              "      <td>90</td>\n",
              "      <td>M</td>\n",
              "      <td>comm</td>\n",
              "    </tr>\n",
              "    <tr>\n",
              "      <th>2</th>\n",
              "      <td>pratham</td>\n",
              "      <td>A</td>\n",
              "      <td>75</td>\n",
              "      <td>M</td>\n",
              "      <td>comm</td>\n",
              "    </tr>\n",
              "    <tr>\n",
              "      <th>5</th>\n",
              "      <td>aquib</td>\n",
              "      <td>A</td>\n",
              "      <td>95</td>\n",
              "      <td>M</td>\n",
              "      <td>arts</td>\n",
              "    </tr>\n",
              "  </tbody>\n",
              "</table>\n",
              "</div>"
            ],
            "text/plain": [
              "      Name Section  Marks Gender Stream\n",
              "0  sarthak       A     90      M   comm\n",
              "2  pratham       A     75      M   comm\n",
              "5    aquib       A     95      M   arts"
            ]
          },
          "metadata": {
            "tags": []
          },
          "execution_count": 7
        }
      ]
    },
    {
      "cell_type": "code",
      "metadata": {
        "colab": {
          "base_uri": "https://localhost:8080/",
          "height": 143
        },
        "id": "f8SsgH8k3Nmd",
        "outputId": "ba6d6845-0cf7-46ef-d9b5-fd60f3f46e23"
      },
      "source": [
        "#Slicing\n",
        "data.loc[1:3]"
      ],
      "execution_count": 8,
      "outputs": [
        {
          "output_type": "execute_result",
          "data": {
            "text/html": [
              "<div>\n",
              "<style scoped>\n",
              "    .dataframe tbody tr th:only-of-type {\n",
              "        vertical-align: middle;\n",
              "    }\n",
              "\n",
              "    .dataframe tbody tr th {\n",
              "        vertical-align: top;\n",
              "    }\n",
              "\n",
              "    .dataframe thead th {\n",
              "        text-align: right;\n",
              "    }\n",
              "</style>\n",
              "<table border=\"1\" class=\"dataframe\">\n",
              "  <thead>\n",
              "    <tr style=\"text-align: right;\">\n",
              "      <th></th>\n",
              "      <th>Name</th>\n",
              "      <th>Section</th>\n",
              "      <th>Marks</th>\n",
              "      <th>Gender</th>\n",
              "      <th>Stream</th>\n",
              "    </tr>\n",
              "  </thead>\n",
              "  <tbody>\n",
              "    <tr>\n",
              "      <th>1</th>\n",
              "      <td>sonali</td>\n",
              "      <td>B</td>\n",
              "      <td>100</td>\n",
              "      <td>F</td>\n",
              "      <td>science</td>\n",
              "    </tr>\n",
              "    <tr>\n",
              "      <th>2</th>\n",
              "      <td>pratham</td>\n",
              "      <td>A</td>\n",
              "      <td>75</td>\n",
              "      <td>M</td>\n",
              "      <td>comm</td>\n",
              "    </tr>\n",
              "    <tr>\n",
              "      <th>3</th>\n",
              "      <td>pratima</td>\n",
              "      <td>B</td>\n",
              "      <td>70</td>\n",
              "      <td>F</td>\n",
              "      <td>arts</td>\n",
              "    </tr>\n",
              "  </tbody>\n",
              "</table>\n",
              "</div>"
            ],
            "text/plain": [
              "      Name Section  Marks Gender   Stream\n",
              "1   sonali       B    100      F  science\n",
              "2  pratham       A     75      M     comm\n",
              "3  pratima       B     70      F     arts"
            ]
          },
          "metadata": {
            "tags": []
          },
          "execution_count": 8
        }
      ]
    },
    {
      "cell_type": "code",
      "metadata": {
        "colab": {
          "base_uri": "https://localhost:8080/",
          "height": 206
        },
        "id": "gY_pWXIB3jhy",
        "outputId": "d0361bd1-8fb5-4e64-8c38-3021e577138e"
      },
      "source": [
        "#select few columns with a condition\n",
        "data.loc[(data.Marks >= 70),['Gender','Stream']]"
      ],
      "execution_count": 9,
      "outputs": [
        {
          "output_type": "execute_result",
          "data": {
            "text/html": [
              "<div>\n",
              "<style scoped>\n",
              "    .dataframe tbody tr th:only-of-type {\n",
              "        vertical-align: middle;\n",
              "    }\n",
              "\n",
              "    .dataframe tbody tr th {\n",
              "        vertical-align: top;\n",
              "    }\n",
              "\n",
              "    .dataframe thead th {\n",
              "        text-align: right;\n",
              "    }\n",
              "</style>\n",
              "<table border=\"1\" class=\"dataframe\">\n",
              "  <thead>\n",
              "    <tr style=\"text-align: right;\">\n",
              "      <th></th>\n",
              "      <th>Gender</th>\n",
              "      <th>Stream</th>\n",
              "    </tr>\n",
              "  </thead>\n",
              "  <tbody>\n",
              "    <tr>\n",
              "      <th>0</th>\n",
              "      <td>M</td>\n",
              "      <td>comm</td>\n",
              "    </tr>\n",
              "    <tr>\n",
              "      <th>1</th>\n",
              "      <td>F</td>\n",
              "      <td>science</td>\n",
              "    </tr>\n",
              "    <tr>\n",
              "      <th>2</th>\n",
              "      <td>M</td>\n",
              "      <td>comm</td>\n",
              "    </tr>\n",
              "    <tr>\n",
              "      <th>3</th>\n",
              "      <td>F</td>\n",
              "      <td>arts</td>\n",
              "    </tr>\n",
              "    <tr>\n",
              "      <th>5</th>\n",
              "      <td>M</td>\n",
              "      <td>arts</td>\n",
              "    </tr>\n",
              "  </tbody>\n",
              "</table>\n",
              "</div>"
            ],
            "text/plain": [
              "  Gender   Stream\n",
              "0      M     comm\n",
              "1      F  science\n",
              "2      M     comm\n",
              "3      F     arts\n",
              "5      M     arts"
            ]
          },
          "metadata": {
            "tags": []
          },
          "execution_count": 9
        }
      ]
    },
    {
      "cell_type": "code",
      "metadata": {
        "colab": {
          "base_uri": "https://localhost:8080/",
          "height": 237
        },
        "id": "JNsGLU3S4GKz",
        "outputId": "00d406f0-1b79-42aa-ea1e-e442688b5a70"
      },
      "source": [
        "#Update a column with condition\n",
        "data.loc[(data.Marks > 75),['Section']]='C'\n",
        "data"
      ],
      "execution_count": 10,
      "outputs": [
        {
          "output_type": "execute_result",
          "data": {
            "text/html": [
              "<div>\n",
              "<style scoped>\n",
              "    .dataframe tbody tr th:only-of-type {\n",
              "        vertical-align: middle;\n",
              "    }\n",
              "\n",
              "    .dataframe tbody tr th {\n",
              "        vertical-align: top;\n",
              "    }\n",
              "\n",
              "    .dataframe thead th {\n",
              "        text-align: right;\n",
              "    }\n",
              "</style>\n",
              "<table border=\"1\" class=\"dataframe\">\n",
              "  <thead>\n",
              "    <tr style=\"text-align: right;\">\n",
              "      <th></th>\n",
              "      <th>Name</th>\n",
              "      <th>Section</th>\n",
              "      <th>Marks</th>\n",
              "      <th>Gender</th>\n",
              "      <th>Stream</th>\n",
              "    </tr>\n",
              "  </thead>\n",
              "  <tbody>\n",
              "    <tr>\n",
              "      <th>0</th>\n",
              "      <td>sarthak</td>\n",
              "      <td>C</td>\n",
              "      <td>90</td>\n",
              "      <td>M</td>\n",
              "      <td>comm</td>\n",
              "    </tr>\n",
              "    <tr>\n",
              "      <th>1</th>\n",
              "      <td>sonali</td>\n",
              "      <td>C</td>\n",
              "      <td>100</td>\n",
              "      <td>F</td>\n",
              "      <td>science</td>\n",
              "    </tr>\n",
              "    <tr>\n",
              "      <th>2</th>\n",
              "      <td>pratham</td>\n",
              "      <td>A</td>\n",
              "      <td>75</td>\n",
              "      <td>M</td>\n",
              "      <td>comm</td>\n",
              "    </tr>\n",
              "    <tr>\n",
              "      <th>3</th>\n",
              "      <td>pratima</td>\n",
              "      <td>B</td>\n",
              "      <td>70</td>\n",
              "      <td>F</td>\n",
              "      <td>arts</td>\n",
              "    </tr>\n",
              "    <tr>\n",
              "      <th>4</th>\n",
              "      <td>somesh</td>\n",
              "      <td>B</td>\n",
              "      <td>60</td>\n",
              "      <td>M</td>\n",
              "      <td>NaN</td>\n",
              "    </tr>\n",
              "    <tr>\n",
              "      <th>5</th>\n",
              "      <td>aquib</td>\n",
              "      <td>C</td>\n",
              "      <td>95</td>\n",
              "      <td>M</td>\n",
              "      <td>arts</td>\n",
              "    </tr>\n",
              "  </tbody>\n",
              "</table>\n",
              "</div>"
            ],
            "text/plain": [
              "      Name Section  Marks Gender   Stream\n",
              "0  sarthak       C     90      M     comm\n",
              "1   sonali       C    100      F  science\n",
              "2  pratham       A     75      M     comm\n",
              "3  pratima       B     70      F     arts\n",
              "4   somesh       B     60      M      NaN\n",
              "5    aquib       C     95      M     arts"
            ]
          },
          "metadata": {
            "tags": []
          },
          "execution_count": 10
        }
      ]
    },
    {
      "cell_type": "code",
      "metadata": {
        "id": "1oK9ZBGy6WYE",
        "colab": {
          "base_uri": "https://localhost:8080/",
          "height": 237
        },
        "outputId": "b5a41b01-5dca-4399-a84b-e6406499b907"
      },
      "source": [
        "#update multiple columns with condition\n",
        "data.loc[(data.Marks >=75), ['Section','Stream']] = ['T', 'Science']\n",
        "data"
      ],
      "execution_count": 12,
      "outputs": [
        {
          "output_type": "execute_result",
          "data": {
            "text/html": [
              "<div>\n",
              "<style scoped>\n",
              "    .dataframe tbody tr th:only-of-type {\n",
              "        vertical-align: middle;\n",
              "    }\n",
              "\n",
              "    .dataframe tbody tr th {\n",
              "        vertical-align: top;\n",
              "    }\n",
              "\n",
              "    .dataframe thead th {\n",
              "        text-align: right;\n",
              "    }\n",
              "</style>\n",
              "<table border=\"1\" class=\"dataframe\">\n",
              "  <thead>\n",
              "    <tr style=\"text-align: right;\">\n",
              "      <th></th>\n",
              "      <th>Name</th>\n",
              "      <th>Section</th>\n",
              "      <th>Marks</th>\n",
              "      <th>Gender</th>\n",
              "      <th>Stream</th>\n",
              "    </tr>\n",
              "  </thead>\n",
              "  <tbody>\n",
              "    <tr>\n",
              "      <th>0</th>\n",
              "      <td>sarthak</td>\n",
              "      <td>T</td>\n",
              "      <td>90</td>\n",
              "      <td>M</td>\n",
              "      <td>Science</td>\n",
              "    </tr>\n",
              "    <tr>\n",
              "      <th>1</th>\n",
              "      <td>sonali</td>\n",
              "      <td>T</td>\n",
              "      <td>100</td>\n",
              "      <td>F</td>\n",
              "      <td>Science</td>\n",
              "    </tr>\n",
              "    <tr>\n",
              "      <th>2</th>\n",
              "      <td>pratham</td>\n",
              "      <td>T</td>\n",
              "      <td>75</td>\n",
              "      <td>M</td>\n",
              "      <td>Science</td>\n",
              "    </tr>\n",
              "    <tr>\n",
              "      <th>3</th>\n",
              "      <td>pratima</td>\n",
              "      <td>B</td>\n",
              "      <td>70</td>\n",
              "      <td>F</td>\n",
              "      <td>arts</td>\n",
              "    </tr>\n",
              "    <tr>\n",
              "      <th>4</th>\n",
              "      <td>somesh</td>\n",
              "      <td>B</td>\n",
              "      <td>60</td>\n",
              "      <td>M</td>\n",
              "      <td>NaN</td>\n",
              "    </tr>\n",
              "    <tr>\n",
              "      <th>5</th>\n",
              "      <td>aquib</td>\n",
              "      <td>T</td>\n",
              "      <td>95</td>\n",
              "      <td>M</td>\n",
              "      <td>Science</td>\n",
              "    </tr>\n",
              "  </tbody>\n",
              "</table>\n",
              "</div>"
            ],
            "text/plain": [
              "      Name Section  Marks Gender   Stream\n",
              "0  sarthak       T     90      M  Science\n",
              "1   sonali       T    100      F  Science\n",
              "2  pratham       T     75      M  Science\n",
              "3  pratima       B     70      F     arts\n",
              "4   somesh       B     60      M      NaN\n",
              "5    aquib       T     95      M  Science"
            ]
          },
          "metadata": {
            "tags": []
          },
          "execution_count": 12
        }
      ]
    },
    {
      "cell_type": "code",
      "metadata": {
        "colab": {
          "base_uri": "https://localhost:8080/",
          "height": 112
        },
        "id": "9tzHv9KvyNwv",
        "outputId": "2bd178d9-f44e-4799-a46b-1858d011ee8c"
      },
      "source": [
        "#Select Rows with indexes\n",
        "data.iloc[[0,2]]"
      ],
      "execution_count": 16,
      "outputs": [
        {
          "output_type": "execute_result",
          "data": {
            "text/html": [
              "<div>\n",
              "<style scoped>\n",
              "    .dataframe tbody tr th:only-of-type {\n",
              "        vertical-align: middle;\n",
              "    }\n",
              "\n",
              "    .dataframe tbody tr th {\n",
              "        vertical-align: top;\n",
              "    }\n",
              "\n",
              "    .dataframe thead th {\n",
              "        text-align: right;\n",
              "    }\n",
              "</style>\n",
              "<table border=\"1\" class=\"dataframe\">\n",
              "  <thead>\n",
              "    <tr style=\"text-align: right;\">\n",
              "      <th></th>\n",
              "      <th>Name</th>\n",
              "      <th>Section</th>\n",
              "      <th>Marks</th>\n",
              "      <th>Gender</th>\n",
              "      <th>Stream</th>\n",
              "    </tr>\n",
              "  </thead>\n",
              "  <tbody>\n",
              "    <tr>\n",
              "      <th>0</th>\n",
              "      <td>sarthak</td>\n",
              "      <td>T</td>\n",
              "      <td>90</td>\n",
              "      <td>M</td>\n",
              "      <td>Science</td>\n",
              "    </tr>\n",
              "    <tr>\n",
              "      <th>2</th>\n",
              "      <td>pratham</td>\n",
              "      <td>T</td>\n",
              "      <td>75</td>\n",
              "      <td>M</td>\n",
              "      <td>Science</td>\n",
              "    </tr>\n",
              "  </tbody>\n",
              "</table>\n",
              "</div>"
            ],
            "text/plain": [
              "      Name Section  Marks Gender   Stream\n",
              "0  sarthak       T     90      M  Science\n",
              "2  pratham       T     75      M  Science"
            ]
          },
          "metadata": {
            "tags": []
          },
          "execution_count": 16
        }
      ]
    },
    {
      "cell_type": "code",
      "metadata": {
        "colab": {
          "base_uri": "https://localhost:8080/",
          "height": 112
        },
        "id": "tL_J1WAe0SQM",
        "outputId": "3f0c61d2-3a29-4a46-c514-b8cae52717b4"
      },
      "source": [
        "#Select rows with particular indexes and particuar columns\n",
        "data.iloc[[0,2],[1,3]]"
      ],
      "execution_count": 17,
      "outputs": [
        {
          "output_type": "execute_result",
          "data": {
            "text/html": [
              "<div>\n",
              "<style scoped>\n",
              "    .dataframe tbody tr th:only-of-type {\n",
              "        vertical-align: middle;\n",
              "    }\n",
              "\n",
              "    .dataframe tbody tr th {\n",
              "        vertical-align: top;\n",
              "    }\n",
              "\n",
              "    .dataframe thead th {\n",
              "        text-align: right;\n",
              "    }\n",
              "</style>\n",
              "<table border=\"1\" class=\"dataframe\">\n",
              "  <thead>\n",
              "    <tr style=\"text-align: right;\">\n",
              "      <th></th>\n",
              "      <th>Section</th>\n",
              "      <th>Gender</th>\n",
              "    </tr>\n",
              "  </thead>\n",
              "  <tbody>\n",
              "    <tr>\n",
              "      <th>0</th>\n",
              "      <td>T</td>\n",
              "      <td>M</td>\n",
              "    </tr>\n",
              "    <tr>\n",
              "      <th>2</th>\n",
              "      <td>T</td>\n",
              "      <td>M</td>\n",
              "    </tr>\n",
              "  </tbody>\n",
              "</table>\n",
              "</div>"
            ],
            "text/plain": [
              "  Section Gender\n",
              "0       T      M\n",
              "2       T      M"
            ]
          },
          "metadata": {
            "tags": []
          },
          "execution_count": 17
        }
      ]
    },
    {
      "cell_type": "code",
      "metadata": {
        "colab": {
          "base_uri": "https://localhost:8080/",
          "height": 112
        },
        "id": "x1wYTtZ91pyu",
        "outputId": "64967dc3-df16-4110-caab-d8353ee352e0"
      },
      "source": [
        "#indexing\n",
        "data.iloc[1:3]"
      ],
      "execution_count": 18,
      "outputs": [
        {
          "output_type": "execute_result",
          "data": {
            "text/html": [
              "<div>\n",
              "<style scoped>\n",
              "    .dataframe tbody tr th:only-of-type {\n",
              "        vertical-align: middle;\n",
              "    }\n",
              "\n",
              "    .dataframe tbody tr th {\n",
              "        vertical-align: top;\n",
              "    }\n",
              "\n",
              "    .dataframe thead th {\n",
              "        text-align: right;\n",
              "    }\n",
              "</style>\n",
              "<table border=\"1\" class=\"dataframe\">\n",
              "  <thead>\n",
              "    <tr style=\"text-align: right;\">\n",
              "      <th></th>\n",
              "      <th>Name</th>\n",
              "      <th>Section</th>\n",
              "      <th>Marks</th>\n",
              "      <th>Gender</th>\n",
              "      <th>Stream</th>\n",
              "    </tr>\n",
              "  </thead>\n",
              "  <tbody>\n",
              "    <tr>\n",
              "      <th>1</th>\n",
              "      <td>sonali</td>\n",
              "      <td>T</td>\n",
              "      <td>100</td>\n",
              "      <td>F</td>\n",
              "      <td>Science</td>\n",
              "    </tr>\n",
              "    <tr>\n",
              "      <th>2</th>\n",
              "      <td>pratham</td>\n",
              "      <td>T</td>\n",
              "      <td>75</td>\n",
              "      <td>M</td>\n",
              "      <td>Science</td>\n",
              "    </tr>\n",
              "  </tbody>\n",
              "</table>\n",
              "</div>"
            ],
            "text/plain": [
              "      Name Section  Marks Gender   Stream\n",
              "1   sonali       T    100      F  Science\n",
              "2  pratham       T     75      M  Science"
            ]
          },
          "metadata": {
            "tags": []
          },
          "execution_count": 18
        }
      ]
    },
    {
      "cell_type": "code",
      "metadata": {
        "colab": {
          "base_uri": "https://localhost:8080/",
          "height": 112
        },
        "id": "abXxhUhm1zHI",
        "outputId": "ae395fbe-0686-474b-a18d-279c3b01af2f"
      },
      "source": [
        "#select a range of rows and columns\n",
        "data.iloc[1:3,2:4]"
      ],
      "execution_count": 19,
      "outputs": [
        {
          "output_type": "execute_result",
          "data": {
            "text/html": [
              "<div>\n",
              "<style scoped>\n",
              "    .dataframe tbody tr th:only-of-type {\n",
              "        vertical-align: middle;\n",
              "    }\n",
              "\n",
              "    .dataframe tbody tr th {\n",
              "        vertical-align: top;\n",
              "    }\n",
              "\n",
              "    .dataframe thead th {\n",
              "        text-align: right;\n",
              "    }\n",
              "</style>\n",
              "<table border=\"1\" class=\"dataframe\">\n",
              "  <thead>\n",
              "    <tr style=\"text-align: right;\">\n",
              "      <th></th>\n",
              "      <th>Marks</th>\n",
              "      <th>Gender</th>\n",
              "    </tr>\n",
              "  </thead>\n",
              "  <tbody>\n",
              "    <tr>\n",
              "      <th>1</th>\n",
              "      <td>100</td>\n",
              "      <td>F</td>\n",
              "    </tr>\n",
              "    <tr>\n",
              "      <th>2</th>\n",
              "      <td>75</td>\n",
              "      <td>M</td>\n",
              "    </tr>\n",
              "  </tbody>\n",
              "</table>\n",
              "</div>"
            ],
            "text/plain": [
              "   Marks Gender\n",
              "1    100      F\n",
              "2     75      M"
            ]
          },
          "metadata": {
            "tags": []
          },
          "execution_count": 19
        }
      ]
    },
    {
      "cell_type": "code",
      "metadata": {
        "colab": {
          "base_uri": "https://localhost:8080/",
          "height": 143
        },
        "id": "phhcNpT-2Svy",
        "outputId": "e433c767-4623-47f3-8d9e-d475aa01711b"
      },
      "source": [
        "data.iloc[[0,2,4]]"
      ],
      "execution_count": 20,
      "outputs": [
        {
          "output_type": "execute_result",
          "data": {
            "text/html": [
              "<div>\n",
              "<style scoped>\n",
              "    .dataframe tbody tr th:only-of-type {\n",
              "        vertical-align: middle;\n",
              "    }\n",
              "\n",
              "    .dataframe tbody tr th {\n",
              "        vertical-align: top;\n",
              "    }\n",
              "\n",
              "    .dataframe thead th {\n",
              "        text-align: right;\n",
              "    }\n",
              "</style>\n",
              "<table border=\"1\" class=\"dataframe\">\n",
              "  <thead>\n",
              "    <tr style=\"text-align: right;\">\n",
              "      <th></th>\n",
              "      <th>Name</th>\n",
              "      <th>Section</th>\n",
              "      <th>Marks</th>\n",
              "      <th>Gender</th>\n",
              "      <th>Stream</th>\n",
              "    </tr>\n",
              "  </thead>\n",
              "  <tbody>\n",
              "    <tr>\n",
              "      <th>0</th>\n",
              "      <td>sarthak</td>\n",
              "      <td>T</td>\n",
              "      <td>90</td>\n",
              "      <td>M</td>\n",
              "      <td>Science</td>\n",
              "    </tr>\n",
              "    <tr>\n",
              "      <th>2</th>\n",
              "      <td>pratham</td>\n",
              "      <td>T</td>\n",
              "      <td>75</td>\n",
              "      <td>M</td>\n",
              "      <td>Science</td>\n",
              "    </tr>\n",
              "    <tr>\n",
              "      <th>4</th>\n",
              "      <td>somesh</td>\n",
              "      <td>B</td>\n",
              "      <td>60</td>\n",
              "      <td>M</td>\n",
              "      <td>NaN</td>\n",
              "    </tr>\n",
              "  </tbody>\n",
              "</table>\n",
              "</div>"
            ],
            "text/plain": [
              "      Name Section  Marks Gender   Stream\n",
              "0  sarthak       T     90      M  Science\n",
              "2  pratham       T     75      M  Science\n",
              "4   somesh       B     60      M      NaN"
            ]
          },
          "metadata": {
            "tags": []
          },
          "execution_count": 20
        }
      ]
    },
    {
      "cell_type": "code",
      "metadata": {
        "id": "bFmlurRB4Ngz"
      },
      "source": [
        "# importing the module \n",
        "import pandas as pd"
      ],
      "execution_count": 21,
      "outputs": []
    },
    {
      "cell_type": "code",
      "metadata": {
        "colab": {
          "base_uri": "https://localhost:8080/",
          "height": 331
        },
        "id": "Cf5cQewO49Zr",
        "outputId": "d8a4541a-61ca-494f-c659-ed762d090963"
      },
      "source": [
        "# creating a sample dataframe \n",
        "data = pd.DataFrame({'Brand' : ['Maruti', 'Hyundai', 'Tata', \n",
        "                                'Mahindra', 'Maruti', 'Hyundai', \n",
        "                                'Renault', 'Tata', 'Maruti'], \n",
        "                     'Year' : [2012, 2014, 2011, 2015, 2012,  \n",
        "                               2016, 2014, 2018, 2019], \n",
        "                     'Kms Driven' : [50000, 30000, 60000,  \n",
        "                                     25000, 10000, 46000,  \n",
        "                                     31000, 15000, 12000], \n",
        "                     'City' : ['Gurgaon', 'Delhi', 'Mumbai',  \n",
        "                               'Delhi', 'Mumbai', 'Delhi',  \n",
        "                               'Mumbai','Chennai',  'Ghaziabad'], \n",
        "                     'Mileage' :  [28, 27, 25, 26, 28,  \n",
        "                                   29, 24, 21, 24]}) \n",
        "   \n",
        "# displaying the DataFrame \n",
        "display(data) "
      ],
      "execution_count": 22,
      "outputs": [
        {
          "output_type": "display_data",
          "data": {
            "text/html": [
              "<div>\n",
              "<style scoped>\n",
              "    .dataframe tbody tr th:only-of-type {\n",
              "        vertical-align: middle;\n",
              "    }\n",
              "\n",
              "    .dataframe tbody tr th {\n",
              "        vertical-align: top;\n",
              "    }\n",
              "\n",
              "    .dataframe thead th {\n",
              "        text-align: right;\n",
              "    }\n",
              "</style>\n",
              "<table border=\"1\" class=\"dataframe\">\n",
              "  <thead>\n",
              "    <tr style=\"text-align: right;\">\n",
              "      <th></th>\n",
              "      <th>Brand</th>\n",
              "      <th>Year</th>\n",
              "      <th>Kms Driven</th>\n",
              "      <th>City</th>\n",
              "      <th>Mileage</th>\n",
              "    </tr>\n",
              "  </thead>\n",
              "  <tbody>\n",
              "    <tr>\n",
              "      <th>0</th>\n",
              "      <td>Maruti</td>\n",
              "      <td>2012</td>\n",
              "      <td>50000</td>\n",
              "      <td>Gurgaon</td>\n",
              "      <td>28</td>\n",
              "    </tr>\n",
              "    <tr>\n",
              "      <th>1</th>\n",
              "      <td>Hyundai</td>\n",
              "      <td>2014</td>\n",
              "      <td>30000</td>\n",
              "      <td>Delhi</td>\n",
              "      <td>27</td>\n",
              "    </tr>\n",
              "    <tr>\n",
              "      <th>2</th>\n",
              "      <td>Tata</td>\n",
              "      <td>2011</td>\n",
              "      <td>60000</td>\n",
              "      <td>Mumbai</td>\n",
              "      <td>25</td>\n",
              "    </tr>\n",
              "    <tr>\n",
              "      <th>3</th>\n",
              "      <td>Mahindra</td>\n",
              "      <td>2015</td>\n",
              "      <td>25000</td>\n",
              "      <td>Delhi</td>\n",
              "      <td>26</td>\n",
              "    </tr>\n",
              "    <tr>\n",
              "      <th>4</th>\n",
              "      <td>Maruti</td>\n",
              "      <td>2012</td>\n",
              "      <td>10000</td>\n",
              "      <td>Mumbai</td>\n",
              "      <td>28</td>\n",
              "    </tr>\n",
              "    <tr>\n",
              "      <th>5</th>\n",
              "      <td>Hyundai</td>\n",
              "      <td>2016</td>\n",
              "      <td>46000</td>\n",
              "      <td>Delhi</td>\n",
              "      <td>29</td>\n",
              "    </tr>\n",
              "    <tr>\n",
              "      <th>6</th>\n",
              "      <td>Renault</td>\n",
              "      <td>2014</td>\n",
              "      <td>31000</td>\n",
              "      <td>Mumbai</td>\n",
              "      <td>24</td>\n",
              "    </tr>\n",
              "    <tr>\n",
              "      <th>7</th>\n",
              "      <td>Tata</td>\n",
              "      <td>2018</td>\n",
              "      <td>15000</td>\n",
              "      <td>Chennai</td>\n",
              "      <td>21</td>\n",
              "    </tr>\n",
              "    <tr>\n",
              "      <th>8</th>\n",
              "      <td>Maruti</td>\n",
              "      <td>2019</td>\n",
              "      <td>12000</td>\n",
              "      <td>Ghaziabad</td>\n",
              "      <td>24</td>\n",
              "    </tr>\n",
              "  </tbody>\n",
              "</table>\n",
              "</div>"
            ],
            "text/plain": [
              "      Brand  Year  Kms Driven       City  Mileage\n",
              "0    Maruti  2012       50000    Gurgaon       28\n",
              "1   Hyundai  2014       30000      Delhi       27\n",
              "2      Tata  2011       60000     Mumbai       25\n",
              "3  Mahindra  2015       25000      Delhi       26\n",
              "4    Maruti  2012       10000     Mumbai       28\n",
              "5   Hyundai  2016       46000      Delhi       29\n",
              "6   Renault  2014       31000     Mumbai       24\n",
              "7      Tata  2018       15000    Chennai       21\n",
              "8    Maruti  2019       12000  Ghaziabad       24"
            ]
          },
          "metadata": {
            "tags": []
          }
        }
      ]
    },
    {
      "cell_type": "code",
      "metadata": {
        "colab": {
          "base_uri": "https://localhost:8080/",
          "height": 112
        },
        "id": "G6D9C68e4_Xk",
        "outputId": "69db9094-1587-4b7e-bd46-5e2394f5511b"
      },
      "source": [
        "# selecting cars with brand 'Maruti' and Mileage > 25 \n",
        "display(data.loc[(data.Brand == 'Maruti') & (data.Mileage > 25)]) "
      ],
      "execution_count": 23,
      "outputs": [
        {
          "output_type": "display_data",
          "data": {
            "text/html": [
              "<div>\n",
              "<style scoped>\n",
              "    .dataframe tbody tr th:only-of-type {\n",
              "        vertical-align: middle;\n",
              "    }\n",
              "\n",
              "    .dataframe tbody tr th {\n",
              "        vertical-align: top;\n",
              "    }\n",
              "\n",
              "    .dataframe thead th {\n",
              "        text-align: right;\n",
              "    }\n",
              "</style>\n",
              "<table border=\"1\" class=\"dataframe\">\n",
              "  <thead>\n",
              "    <tr style=\"text-align: right;\">\n",
              "      <th></th>\n",
              "      <th>Brand</th>\n",
              "      <th>Year</th>\n",
              "      <th>Kms Driven</th>\n",
              "      <th>City</th>\n",
              "      <th>Mileage</th>\n",
              "    </tr>\n",
              "  </thead>\n",
              "  <tbody>\n",
              "    <tr>\n",
              "      <th>0</th>\n",
              "      <td>Maruti</td>\n",
              "      <td>2012</td>\n",
              "      <td>50000</td>\n",
              "      <td>Gurgaon</td>\n",
              "      <td>28</td>\n",
              "    </tr>\n",
              "    <tr>\n",
              "      <th>4</th>\n",
              "      <td>Maruti</td>\n",
              "      <td>2012</td>\n",
              "      <td>10000</td>\n",
              "      <td>Mumbai</td>\n",
              "      <td>28</td>\n",
              "    </tr>\n",
              "  </tbody>\n",
              "</table>\n",
              "</div>"
            ],
            "text/plain": [
              "    Brand  Year  Kms Driven     City  Mileage\n",
              "0  Maruti  2012       50000  Gurgaon       28\n",
              "4  Maruti  2012       10000   Mumbai       28"
            ]
          },
          "metadata": {
            "tags": []
          }
        }
      ]
    },
    {
      "cell_type": "code",
      "metadata": {
        "colab": {
          "base_uri": "https://localhost:8080/",
          "height": 175
        },
        "id": "a3o2F1W55Bar",
        "outputId": "e519a1cb-e6f8-481e-834c-2402dfba589f"
      },
      "source": [
        "# selecting range of rows from 2 to 5 \n",
        "display(data.loc[2 : 5]) "
      ],
      "execution_count": 24,
      "outputs": [
        {
          "output_type": "display_data",
          "data": {
            "text/html": [
              "<div>\n",
              "<style scoped>\n",
              "    .dataframe tbody tr th:only-of-type {\n",
              "        vertical-align: middle;\n",
              "    }\n",
              "\n",
              "    .dataframe tbody tr th {\n",
              "        vertical-align: top;\n",
              "    }\n",
              "\n",
              "    .dataframe thead th {\n",
              "        text-align: right;\n",
              "    }\n",
              "</style>\n",
              "<table border=\"1\" class=\"dataframe\">\n",
              "  <thead>\n",
              "    <tr style=\"text-align: right;\">\n",
              "      <th></th>\n",
              "      <th>Brand</th>\n",
              "      <th>Year</th>\n",
              "      <th>Kms Driven</th>\n",
              "      <th>City</th>\n",
              "      <th>Mileage</th>\n",
              "    </tr>\n",
              "  </thead>\n",
              "  <tbody>\n",
              "    <tr>\n",
              "      <th>2</th>\n",
              "      <td>Tata</td>\n",
              "      <td>2011</td>\n",
              "      <td>60000</td>\n",
              "      <td>Mumbai</td>\n",
              "      <td>25</td>\n",
              "    </tr>\n",
              "    <tr>\n",
              "      <th>3</th>\n",
              "      <td>Mahindra</td>\n",
              "      <td>2015</td>\n",
              "      <td>25000</td>\n",
              "      <td>Delhi</td>\n",
              "      <td>26</td>\n",
              "    </tr>\n",
              "    <tr>\n",
              "      <th>4</th>\n",
              "      <td>Maruti</td>\n",
              "      <td>2012</td>\n",
              "      <td>10000</td>\n",
              "      <td>Mumbai</td>\n",
              "      <td>28</td>\n",
              "    </tr>\n",
              "    <tr>\n",
              "      <th>5</th>\n",
              "      <td>Hyundai</td>\n",
              "      <td>2016</td>\n",
              "      <td>46000</td>\n",
              "      <td>Delhi</td>\n",
              "      <td>29</td>\n",
              "    </tr>\n",
              "  </tbody>\n",
              "</table>\n",
              "</div>"
            ],
            "text/plain": [
              "      Brand  Year  Kms Driven    City  Mileage\n",
              "2      Tata  2011       60000  Mumbai       25\n",
              "3  Mahindra  2015       25000   Delhi       26\n",
              "4    Maruti  2012       10000  Mumbai       28\n",
              "5   Hyundai  2016       46000   Delhi       29"
            ]
          },
          "metadata": {
            "tags": []
          }
        }
      ]
    },
    {
      "cell_type": "code",
      "metadata": {
        "id": "mAjuAYBj5C8B"
      },
      "source": [
        ""
      ],
      "execution_count": null,
      "outputs": []
    }
  ]
}