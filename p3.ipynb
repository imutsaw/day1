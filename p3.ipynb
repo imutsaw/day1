{
  "nbformat": 4,
  "nbformat_minor": 0,
  "metadata": {
    "colab": {
      "name": "p3.ipynb",
      "provenance": [],
      "authorship_tag": "ABX9TyN+Fzb3j0geDeghSaZJOrmX",
      "include_colab_link": true
    },
    "kernelspec": {
      "name": "python3",
      "display_name": "Python 3"
    },
    "language_info": {
      "name": "python"
    }
  },
  "cells": [
    {
      "cell_type": "markdown",
      "metadata": {
        "id": "view-in-github",
        "colab_type": "text"
      },
      "source": [
        "<a href=\"https://colab.research.google.com/github/imutsaw/python/blob/main/p3.ipynb\" target=\"_parent\"><img src=\"https://colab.research.google.com/assets/colab-badge.svg\" alt=\"Open In Colab\"/></a>"
      ]
    },
    {
      "cell_type": "code",
      "metadata": {
        "id": "nuyN5EZqSFzH"
      },
      "source": [
        "#function\n",
        "def func():\n",
        "  print(\"This is a custom function\")\n",
        "  "
      ],
      "execution_count": 1,
      "outputs": []
    },
    {
      "cell_type": "code",
      "metadata": {
        "colab": {
          "base_uri": "https://localhost:8080/"
        },
        "id": "rfMpeNR3Y4As",
        "outputId": "f0b3d715-1f2c-4c6a-c89f-1f42c9e686e1"
      },
      "source": [
        "func()"
      ],
      "execution_count": 2,
      "outputs": [
        {
          "output_type": "stream",
          "text": [
            "This is a custom function\n"
          ],
          "name": "stdout"
        }
      ]
    },
    {
      "cell_type": "code",
      "metadata": {
        "id": "ZmtG39z1Y9Yr"
      },
      "source": [
        "def func1(a):\n",
        "  print(\"This is a custom function \" +str(a))"
      ],
      "execution_count": 4,
      "outputs": []
    },
    {
      "cell_type": "code",
      "metadata": {
        "colab": {
          "base_uri": "https://localhost:8080/"
        },
        "id": "WVroQC6rZMnT",
        "outputId": "3d551dfc-e714-418a-8496-f3fec128bf57"
      },
      "source": [
        "func1(\"created by me\")\n",
        "func1(2)\n",
        "func1(89.3356)"
      ],
      "execution_count": 5,
      "outputs": [
        {
          "output_type": "stream",
          "text": [
            "This is a custom function created by me\n",
            "This is a custom function 2\n",
            "This is a custom function 89.3356\n"
          ],
          "name": "stdout"
        }
      ]
    },
    {
      "cell_type": "code",
      "metadata": {
        "colab": {
          "base_uri": "https://localhost:8080/"
        },
        "id": "5W2Msq6Jd-PQ",
        "outputId": "f1289113-cab5-423c-c705-66a3b0965333"
      },
      "source": [
        "def func2(a,b):\n",
        "  c=a+b\n",
        "  print(c)\n",
        "func2(6,5)\n",
        "func2('ram & ', 'hari')"
      ],
      "execution_count": 8,
      "outputs": [
        {
          "output_type": "stream",
          "text": [
            "11\n",
            "ram & hari\n"
          ],
          "name": "stdout"
        }
      ]
    },
    {
      "cell_type": "code",
      "metadata": {
        "colab": {
          "base_uri": "https://localhost:8080/"
        },
        "id": "_qZrVvO2fq_f",
        "outputId": "c81ffb18-2e84-4daf-8e1c-eb395d083520"
      },
      "source": [
        "#use of return statement ina function \n",
        "def add(a,b):\n",
        "  return a+b\n",
        "\n",
        "addition= func5(9,8)\n",
        "print(\"the sum of number using return statement and defining a function is {}\".format(addition))"
      ],
      "execution_count": 2,
      "outputs": [
        {
          "output_type": "stream",
          "text": [
            "the sum of number using return statement and defining a function is 17\n"
          ],
          "name": "stdout"
        }
      ]
    },
    {
      "cell_type": "code",
      "metadata": {
        "colab": {
          "base_uri": "https://localhost:8080/"
        },
        "id": "0nboeJsQYu_8",
        "outputId": "75a3d9d8-acb1-468d-c534-e754dff3a9f1"
      },
      "source": [
        "#Average of list of nos.\n",
        "def cal_average(num):\n",
        "    sum_num = 0\n",
        "    for t in num:\n",
        "        sum_num = sum_num + t           \n",
        "\n",
        "    avg = sum_num / len(num)\n",
        "    return avg\n",
        "\n",
        "print(\"The average is\", cal_average([18,25,3,41,5]))"
      ],
      "execution_count": 1,
      "outputs": [
        {
          "output_type": "stream",
          "text": [
            "The average is 18.4\n"
          ],
          "name": "stdout"
        }
      ]
    },
    {
      "cell_type": "code",
      "metadata": {
        "colab": {
          "base_uri": "https://localhost:8080/"
        },
        "id": "BqcZ6ip9OzuD",
        "outputId": "f6617c1a-d599-45ef-cebd-c1bc0bfcdc0d"
      },
      "source": [
        "#use of default argument\n",
        "def func3(name='utsaw', roll_no=5, branch='CSE'):\n",
        "  print('Name is ' +name)\n",
        "  print('Roll no. is ' +str(roll_no))\n",
        "  print('Branch is ' +branch, end='\\n\\n')\n",
        "func3()"
      ],
      "execution_count": 2,
      "outputs": [
        {
          "output_type": "stream",
          "text": [
            "Name is utsaw\n",
            "Roll no. is 5\n",
            "Branch is CSE\n",
            "\n"
          ],
          "name": "stdout"
        }
      ]
    },
    {
      "cell_type": "code",
      "metadata": {
        "colab": {
          "base_uri": "https://localhost:8080/"
        },
        "id": "dIfiC5CzkG1v",
        "outputId": "47b217f3-af37-4757-efaa-a68fc154d666"
      },
      "source": [
        "func3('hari')"
      ],
      "execution_count": 3,
      "outputs": [
        {
          "output_type": "stream",
          "text": [
            "Name is hari\n",
            "Roll no. is 5\n",
            "Branch is CSE\n",
            "\n"
          ],
          "name": "stdout"
        }
      ]
    },
    {
      "cell_type": "code",
      "metadata": {
        "colab": {
          "base_uri": "https://localhost:8080/"
        },
        "id": "vK6y7CVLkWrt",
        "outputId": "47174e60-667f-48fd-b02e-c88eae505a01"
      },
      "source": [
        "func3('saswat',8,'ETC')"
      ],
      "execution_count": 5,
      "outputs": [
        {
          "output_type": "stream",
          "text": [
            "Name is saswat\n",
            "Roll no. is 8\n",
            "Branch is ETC\n",
            "\n"
          ],
          "name": "stdout"
        }
      ]
    },
    {
      "cell_type": "code",
      "metadata": {
        "colab": {
          "base_uri": "https://localhost:8080/"
        },
        "id": "FJPT2nQAkk1e",
        "outputId": "eb577c43-0f7d-4af1-bb39-c7e6852741d8"
      },
      "source": [
        "func3(roll_no=3)"
      ],
      "execution_count": 6,
      "outputs": [
        {
          "output_type": "stream",
          "text": [
            "Name is utsaw\n",
            "Roll no. is 3\n",
            "Branch is CSE\n",
            "\n"
          ],
          "name": "stdout"
        }
      ]
    },
    {
      "cell_type": "code",
      "metadata": {
        "colab": {
          "base_uri": "https://localhost:8080/"
        },
        "id": "VqAXlNCykyEY",
        "outputId": "08da3de6-2fec-4709-a4fc-94afe7294264"
      },
      "source": [
        "#Use of variable argument\n",
        "def funvar(name='Ram', *vararg):\n",
        "  print('Name is '+name, end='\\n')\n",
        "  for i in vararg:\n",
        "    print(i)\n",
        "funvar()\n",
        "funvar('Hari')"
      ],
      "execution_count": 2,
      "outputs": [
        {
          "output_type": "stream",
          "text": [
            "Name is Ram\n",
            "Name is Hari\n"
          ],
          "name": "stdout"
        }
      ]
    },
    {
      "cell_type": "code",
      "metadata": {
        "colab": {
          "base_uri": "https://localhost:8080/"
        },
        "id": "owCkXHcWIhXe",
        "outputId": "f453e39d-9de5-478c-da50-4b385ff0a980"
      },
      "source": [
        "funvar('Shyam', 'Roll no is 3', 'Branch is CSE')"
      ],
      "execution_count": 3,
      "outputs": [
        {
          "output_type": "stream",
          "text": [
            "Name is Shyam\n",
            "Roll no is 3\n",
            "Branch is CSE\n"
          ],
          "name": "stdout"
        }
      ]
    },
    {
      "cell_type": "code",
      "metadata": {
        "colab": {
          "base_uri": "https://localhost:8080/"
        },
        "id": "ivaYjwTOKYDU",
        "outputId": "6a3f81b6-659a-4a40-ad3b-0f0ec923546c"
      },
      "source": [
        "#If the number of keyword arguments is unknown, add a double ** before the parameter name\n",
        "def my_function(**St):\n",
        "    print(\"Her last name is \" +St[\"lname\"])\n",
        "\n",
        "my_function(fname = \"Supreeti\", lname = \"Subudhi\")"
      ],
      "execution_count": 4,
      "outputs": [
        {
          "output_type": "stream",
          "text": [
            "Her last name is Subudhi\n"
          ],
          "name": "stdout"
        }
      ]
    },
    {
      "cell_type": "code",
      "metadata": {
        "colab": {
          "base_uri": "https://localhost:8080/"
        },
        "id": "sZxX_t2XUBGX",
        "outputId": "bf989d59-4026-425c-b6b3-a5157d4f3cf9"
      },
      "source": [
        "#Global variable\n",
        "#Global Variable can be used by other fuction too\n",
        "global d\n",
        "def add(a,b,c):\n",
        "  d=a+b+c\n",
        "  return d\n",
        "def prod(e):\n",
        "  f=d*e\n",
        "  return f\n",
        "print(add(5,3,2))\n",
        "print(prod(2))"
      ],
      "execution_count": 6,
      "outputs": [
        {
          "output_type": "stream",
          "text": [
            "10\n",
            "20\n"
          ],
          "name": "stdout"
        }
      ]
    },
    {
      "cell_type": "code",
      "metadata": {
        "colab": {
          "base_uri": "https://localhost:8080/"
        },
        "id": "eQi67USscNmA",
        "outputId": "ba43ace7-20e5-4673-f598-baa8b9e1ddcc"
      },
      "source": [
        "#lambda function inside a function\n",
        "def myfunc(n):\n",
        "  return lambda a : a * n\n",
        "x = myfunc(5)\n",
        "print(x(10))"
      ],
      "execution_count": 8,
      "outputs": [
        {
          "output_type": "stream",
          "text": [
            "50\n"
          ],
          "name": "stdout"
        }
      ]
    },
    {
      "cell_type": "code",
      "metadata": {
        "colab": {
          "base_uri": "https://localhost:8080/"
        },
        "id": "Lv9_OAs9fmyv",
        "outputId": "18d8cc02-a884-45eb-f72f-d18f7ae6927d"
      },
      "source": [
        "#LAMBDA FUNCTION\n",
        "x = lambda a : a * 6\n",
        "print(x(6))\n",
        "\n",
        "\n",
        "#multiply argument with a argumenent b and return the result:\n",
        "x = lambda a, b : a * b\n",
        "print(x(6,6))"
      ],
      "execution_count": 9,
      "outputs": [
        {
          "output_type": "stream",
          "text": [
            "36\n",
            "36\n"
          ],
          "name": "stdout"
        }
      ]
    },
    {
      "cell_type": "code",
      "metadata": {
        "id": "_rcQTZKWm-58"
      },
      "source": [
        ""
      ],
      "execution_count": null,
      "outputs": []
    }
  ]
}