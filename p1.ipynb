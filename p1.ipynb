{
  "nbformat": 4,
  "nbformat_minor": 0,
  "metadata": {
    "colab": {
      "name": "p1.ipynb",
      "provenance": [],
      "authorship_tag": "ABX9TyPxwKyEyKiN1RN15KS/Hly7",
      "include_colab_link": true
    },
    "kernelspec": {
      "name": "python3",
      "display_name": "Python 3"
    },
    "language_info": {
      "name": "python"
    }
  },
  "cells": [
    {
      "cell_type": "markdown",
      "metadata": {
        "id": "view-in-github",
        "colab_type": "text"
      },
      "source": [
        "<a href=\"https://colab.research.google.com/github/imutsaw/python/blob/main/p1.ipynb\" target=\"_parent\"><img src=\"https://colab.research.google.com/assets/colab-badge.svg\" alt=\"Open In Colab\"/></a>"
      ]
    },
    {
      "cell_type": "code",
      "metadata": {
        "colab": {
          "base_uri": "https://localhost:8080/"
        },
        "id": "iZ6wvaNxklEt",
        "outputId": "57514e11-cca5-4846-a316-59a0e39065b3"
      },
      "source": [
        "# Python Program to find Sum of N Natural Numbers\n",
        " \n",
        "number = int(input(\"Please Enter any Number: \"))\n",
        "total = 0\n",
        "\n",
        "for value in range(1, number + 1):\n",
        "    total = total + value\n",
        "\n",
        "print(\"The Sum of Natural Numbers from 1 to\", number,\" =\", total)"
      ],
      "execution_count": 2,
      "outputs": [
        {
          "output_type": "stream",
          "text": [
            "Please Enter any Number: 25\n",
            "The Sum of Natural Numbers from 1 to 25  = 325\n"
          ],
          "name": "stdout"
        }
      ]
    },
    {
      "cell_type": "code",
      "metadata": {
        "colab": {
          "base_uri": "https://localhost:8080/"
        },
        "id": "YImLpCtz0haH",
        "outputId": "7c2ed2ef-162e-436f-a8bf-e1550fd68c6a"
      },
      "source": [
        "#inserting items in a list\n",
        "\n",
        "l1=[\"apple\", \"cherry\", \"banana\"]\n",
        "print(\"The original list is given as: \",l1)\n",
        "\n",
        "\n",
        "#inserting items in a specific position\n",
        "l1.insert(2,\"watermelon\")\n",
        "print(\"The new list is given as: \",l1)\n",
        "\n",
        "#inserting items in a list using append\n",
        "l1.append(\"mangoes\")\n",
        "print(\"The appended new list is given as: \",l1)"
      ],
      "execution_count": 8,
      "outputs": [
        {
          "output_type": "stream",
          "text": [
            "The original list is given as:  ['apple', 'cherry', 'banana']\n",
            "The new list is given as:  ['apple', 'cherry', 'watermelon', 'banana']\n",
            "The appended new list is given as:  ['apple', 'cherry', 'watermelon', 'banana', 'mangoes']\n"
          ],
          "name": "stdout"
        }
      ]
    },
    {
      "cell_type": "code",
      "metadata": {
        "colab": {
          "base_uri": "https://localhost:8080/"
        },
        "id": "6g-yrvbG1aIS",
        "outputId": "be8caf12-3f60-4747-bcfc-ac700e48fbbd"
      },
      "source": [
        "l2=[\"chocolate\", \"waffer\", \"biscuits\"]\n",
        "l1.extend(l2)\n",
        "print(\"The new extended list is given as: \", l1)"
      ],
      "execution_count": 9,
      "outputs": [
        {
          "output_type": "stream",
          "text": [
            "The new extended list is given as:  ['apple', 'cherry', 'watermelon', 'banana', 'mangoes', 'chocolate', 'waffer', 'biscuits']\n"
          ],
          "name": "stdout"
        }
      ]
    },
    {
      "cell_type": "code",
      "metadata": {
        "colab": {
          "base_uri": "https://localhost:8080/"
        },
        "id": "aL2vEAZ49uoS",
        "outputId": "57f58bde-34e3-4d53-827f-113948407895"
      },
      "source": [
        "#Take user input list and the list should contains all types of data. Print the list in ascending as well as in descending order\n",
        "list=[]\n",
        "num=int(input())\n",
        "for i in range(num):\n",
        "    elements=input()\n",
        "    list.append(elements)\n",
        "print(list)\n",
        "list.sort()\n",
        "print(list)\n",
        "list.sort(reverse = True)\n",
        "print(list)"
      ],
      "execution_count": 16,
      "outputs": [
        {
          "output_type": "stream",
          "text": [
            "8\n",
            "3\n",
            "6\n",
            "2\n",
            "1\n",
            "hi\n",
            "9\n",
            "7\n",
            "6\n",
            "['3', '6', '2', '1', 'hi', '9', '7', '6']\n",
            "['1', '2', '3', '6', '6', '7', '9', 'hi']\n",
            "['hi', '9', '7', '6', '6', '3', '2', '1']\n"
          ],
          "name": "stdout"
        }
      ]
    },
    {
      "cell_type": "code",
      "metadata": {
        "colab": {
          "base_uri": "https://localhost:8080/"
        },
        "id": "qvrRCtgB-uxd",
        "outputId": "11061cd9-63c8-4644-f64c-b0879cf68e9f"
      },
      "source": [
        "\"\"\"List Comprehension- List comprehension offers a shorter syntax when you want to create a new list based on the values \n",
        "of an existing list.\n",
        "\n",
        "syntax-\n",
        "\"\"\"\n",
        "\n",
        "#without list comprehension\n",
        "fruits = [\"apple\", \"banana\", \"cherry\", \"kiwi\", \"mango\"]\n",
        "newlist = []\n",
        "\n",
        "for x in fruits:\n",
        "    if \"a\" in x:\n",
        "        newlist.append(x)\n",
        "\n",
        "print(newlist)\n"
      ],
      "execution_count": 17,
      "outputs": [
        {
          "output_type": "stream",
          "text": [
            "['apple', 'banana', 'mango']\n"
          ],
          "name": "stdout"
        }
      ]
    }
  ]
}